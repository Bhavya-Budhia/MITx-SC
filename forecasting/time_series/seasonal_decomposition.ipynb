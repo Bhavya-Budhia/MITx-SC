{
 "cells": [
  {
   "cell_type": "markdown",
   "metadata": {},
   "source": [
    "# Seasonal Decomposition\n",
    "\n",
    "You're a supply chain analyst at SeasonalWear, a clothing retailer. You need to analyze and forecast demand for various clothing items considering seasonal patterns.\n",
    "\n",
    "## Learning Objectives\n",
    "1. Understand time series components\n",
    "2. Implement decomposition methods\n",
    "3. Handle different seasonal patterns\n",
    "4. Make seasonal forecasts"
   ]
  },
  {
   "cell_type": "code",
   "execution_count": null,
   "metadata": {},
   "source": [
    "import numpy as np\n",
    "import pandas as pd\n",
    "import matplotlib.pyplot as plt\n",
    "import seaborn as sns\n",
    "from statsmodels.tsa.seasonal import seasonal_decompose\n",
    "from utils.testing.forecasting_tests import check_seasonal_decomposition\n",
    "\n",
    "# Set plotting style\n",
    "plt.style.use('seaborn')\n",
    "sns.set_palette('husl')"
   ]
  },
  {
   "cell_type": "markdown",
   "metadata": {},
   "source": [
    "## Part 1: Understanding Components\n",
    "\n",
    "Analyze monthly sales data to identify trend, seasonal, and residual components."
   ]
  },
  {
   "cell_type": "code",
   "execution_count": null,
   "metadata": {},
   "source": [
    "# Sample data: Monthly t-shirt sales\n",
    "dates = pd.date_range(start='2022-01-01', end='2023-12-31', freq='M')\n",
    "base_trend = np.linspace(1000, 1500, len(dates))  # Upward trend\n",
    "seasonal_pattern = 200 * np.sin(2 * np.pi * np.arange(len(dates)) / 12)  # Annual cycle\n",
    "noise = np.random.normal(0, 50, len(dates))  # Random variations\n",
    "\n",
    "sales_data = base_trend + seasonal_pattern + noise\n",
    "\n",
    "###insert code here\n",
    "# Calculate:\n",
    "# a) Trend component\n",
    "# b) Seasonal component\n",
    "# c) Residual component"
   ]
  },
  {
   "cell_type": "markdown",
   "metadata": {},
   "source": [
    "### Questions to Answer:\n",
    "1. What's the dominant pattern?\n",
    "2. How strong is the seasonality?\n",
    "3. Is the trend linear?"
   ]
  },
  {
   "cell_type": "markdown",
   "metadata": {},
   "source": [
    "## Part 2: Additive vs Multiplicative Decomposition\n",
    "\n",
    "Compare different decomposition models."
   ]
  },
  {
   "cell_type": "code",
   "execution_count": null,
   "metadata": {},
   "source": [
    "# Data with increasing seasonal amplitude\n",
    "multiplicative_seasonal = base_trend * (1 + 0.2 * np.sin(2 * np.pi * np.arange(len(dates)) / 12))\n",
    "\n",
    "###insert code here\n",
    "# Implement:\n",
    "# a) Additive decomposition\n",
    "# b) Multiplicative decomposition\n",
    "# c) Compare results"
   ]
  },
  {
   "cell_type": "markdown",
   "metadata": {},
   "source": [
    "### Questions to Answer:\n",
    "1. When to use each model?\n",
    "2. How to identify the appropriate model?\n",
    "3. What about mixed patterns?"
   ]
  },
  {
   "cell_type": "markdown",
   "metadata": {},
   "source": [
    "## Part 3: Multiple Seasonal Patterns\n",
    "\n",
    "Handle data with multiple seasonal cycles."
   ]
  },
  {
   "cell_type": "code",
   "execution_count": null,
   "metadata": {},
   "source": [
    "# Hourly sales data with daily and weekly patterns\n",
    "hourly_dates = pd.date_range(start='2023-01-01', end='2023-03-31', freq='H')\n",
    "daily_pattern = 100 * np.sin(2 * np.pi * np.arange(len(hourly_dates)) / 24)\n",
    "weekly_pattern = 50 * np.sin(2 * np.pi * np.arange(len(hourly_dates)) / (24 * 7))\n",
    "\n",
    "hourly_sales = 1000 + daily_pattern + weekly_pattern + np.random.normal(0, 10, len(hourly_dates))\n",
    "\n",
    "###insert code here\n",
    "# Analyze:\n",
    "# a) Daily seasonality\n",
    "# b) Weekly seasonality\n",
    "# c) Combined effects"
   ]
  },
  {
   "cell_type": "markdown",
   "metadata": {},
   "source": [
    "### Questions to Answer:\n",
    "1. How to identify multiple patterns?\n",
    "2. Which pattern is stronger?\n",
    "3. How do patterns interact?"
   ]
  },
  {
   "cell_type": "markdown",
   "metadata": {},
   "source": [
    "## Part 4: Seasonal Adjustment\n",
    "\n",
    "Remove seasonal effects for trend analysis."
   ]
  },
  {
   "cell_type": "code",
   "execution_count": null,
   "metadata": {},
   "source": [
    "###insert code here\n",
    "# Implement:\n",
    "# a) Seasonal adjustment\n",
    "# b) Trend analysis\n",
    "# c) Compare original vs adjusted"
   ]
  },
  {
   "cell_type": "markdown",
   "metadata": {},
   "source": [
    "## Extension Questions\n",
    "\n",
    "1. Pattern Analysis:\n",
    "   - How to handle changing seasonality?\n",
    "   - What about irregular cycles?\n",
    "   - How to detect pattern changes?\n",
    "\n",
    "2. Implementation Considerations:\n",
    "   - How to handle missing data?\n",
    "   - What about outliers?\n",
    "   - How to validate decomposition?"
   ]
  }
 ],
 "metadata": {
  "kernelspec": {
   "display_name": "Python 3",
   "language": "python",
   "name": "python3"
  },
  "language_info": {
   "codemirror_mode": {
    "name": "ipython",
    "version": 3
   },
   "file_extension": ".py",
   "mimetype": "text/x-python",
   "name": "python",
   "nbconvert_exporter": "python",
   "pygments_lexer": "ipython3",
   "version": "3.8.0"
  }
 },
 "nbformat": 4,
 "nbformat_minor": 4
}
