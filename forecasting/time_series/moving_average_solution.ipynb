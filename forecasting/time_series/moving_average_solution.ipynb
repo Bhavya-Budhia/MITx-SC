{
 "cells": [
  {
   "cell_type": "markdown",
   "metadata": {},
   "source": [
    "# Moving Average Methods - Solution\n",
    "\n",
    "This notebook provides a complete solution for implementing moving average methods at TechGear, including:\n",
    "1. Simple Moving Average (SMA)\n",
    "2. Weighted Moving Average (WMA)\n",
    "3. Window Size Selection\n",
    "4. Forecast Accuracy Analysis"
   ]
  },
  {
   "cell_type": "code",
   "execution_count": 1,
   "metadata": {},
   "outputs": [
    {
     "ename": "ModuleNotFoundError",
     "evalue": "No module named 'utils'",
     "output_type": "error",
     "traceback": [
      "\u001b[1;31m---------------------------------------------------------------------------\u001b[0m",
      "\u001b[1;31mModuleNotFoundError\u001b[0m                       Traceback (most recent call last)",
      "Cell \u001b[1;32mIn[1], line 5\u001b[0m\n\u001b[0;32m      3\u001b[0m \u001b[38;5;28;01mimport\u001b[39;00m \u001b[38;5;21;01mmatplotlib\u001b[39;00m\u001b[38;5;21;01m.\u001b[39;00m\u001b[38;5;21;01mpyplot\u001b[39;00m \u001b[38;5;28;01mas\u001b[39;00m \u001b[38;5;21;01mplt\u001b[39;00m\n\u001b[0;32m      4\u001b[0m \u001b[38;5;28;01mimport\u001b[39;00m \u001b[38;5;21;01mseaborn\u001b[39;00m \u001b[38;5;28;01mas\u001b[39;00m \u001b[38;5;21;01msns\u001b[39;00m\n\u001b[1;32m----> 5\u001b[0m \u001b[38;5;28;01mfrom\u001b[39;00m \u001b[38;5;21;01mutils\u001b[39;00m\u001b[38;5;21;01m.\u001b[39;00m\u001b[38;5;21;01mtesting\u001b[39;00m\u001b[38;5;21;01m.\u001b[39;00m\u001b[38;5;21;01mforecasting_tests\u001b[39;00m \u001b[38;5;28;01mimport\u001b[39;00m check_moving_average, check_forecast_accuracy\n\u001b[0;32m      7\u001b[0m \u001b[38;5;66;03m# Set plotting style\u001b[39;00m\n\u001b[0;32m      8\u001b[0m plt\u001b[38;5;241m.\u001b[39mstyle\u001b[38;5;241m.\u001b[39muse(\u001b[38;5;124m'\u001b[39m\u001b[38;5;124mseaborn\u001b[39m\u001b[38;5;124m'\u001b[39m)\n",
      "\u001b[1;31mModuleNotFoundError\u001b[0m: No module named 'utils'"
     ]
    }
   ],
   "source": [
    "import numpy as np\n",
    "import pandas as pd\n",
    "import matplotlib.pyplot as plt\n",
    "import seaborn as sns\n",
    "from utils.testing.forecasting_tests import check_moving_average, check_forecast_accuracy\n",
    "\n",
    "# Set plotting style\n",
    "plt.style.use('seaborn')\n",
    "sns.set_palette('husl')"
   ]
  },
  {
   "cell_type": "markdown",
   "metadata": {},
   "source": [
    "## Part 1: Simple Moving Average\n",
    "\n",
    "First, we'll implement simple moving average with different window sizes."
   ]
  },
  {
   "cell_type": "code",
   "execution_count": null,
   "metadata": {},
   "outputs": [],
   "source": [
    "def simple_moving_average(data, window):\n",
    "    \"\"\"Calculate simple moving average.\n",
    "    \n",
    "    Args:\n",
    "        data (array): Input time series data\n",
    "        window (int): Window size for moving average\n",
    "        \n",
    "    Returns:\n",
    "        array: Moving average values (same length as input)\n",
    "    \"\"\"\n",
    "    result = np.zeros_like(data)\n",
    "    result[:window-1] = np.nan  # First window-1 values can't be calculated\n",
    "    \n",
    "    for i in range(window-1, len(data)):\n",
    "        result[i] = np.mean(data[i-window+1:i+1])\n",
    "        \n",
    "    return result\n",
    "\n",
    "# Sample data: Daily laptop sales\n",
    "sales_data = np.array([45, 52, 48, 58, 50, 42, 55, 53, 49, 51, 47, 54, 50, 43, 56])\n",
    "\n",
    "# Calculate moving averages\n",
    "ma_3 = simple_moving_average(sales_data, 3)\n",
    "ma_5 = simple_moving_average(sales_data, 5)\n",
    "\n",
    "# Plot results\n",
    "plt.figure(figsize=(12, 6))\n",
    "plt.plot(sales_data, marker='o', label='Actual Data')\n",
    "plt.plot(ma_3, marker='s', label='3-Day MA')\n",
    "plt.plot(ma_5, marker='^', label='5-Day MA')\n",
    "plt.title('Simple Moving Average - Laptop Sales')\n",
    "plt.xlabel('Day')\n",
    "plt.ylabel('Sales')\n",
    "plt.legend()\n",
    "plt.grid(True, alpha=0.3)\n",
    "plt.show()\n",
    "\n",
    "# Calculate forecast accuracy (excluding NaN values)\n",
    "mse_3 = np.nanmean((sales_data[2:] - ma_3[2:])**2)\n",
    "mse_5 = np.nanmean((sales_data[4:] - ma_5[4:])**2)\n",
    "\n",
    "print(\"Forecast Accuracy:\")\n",
    "print(f\"MSE (3-Day MA): {mse_3:.2f}\")\n",
    "print(f\"MSE (5-Day MA): {mse_5:.2f}\")\n",
    "\n",
    "# Test moving average implementation\n",
    "if check_moving_average(sales_data, ma_3, 3):\n",
    "    print(\"✓ Simple moving average correctly implemented!\")\n",
    "else:\n",
    "    print(\"✗ Check your moving average implementation\")"
   ]
  },
  {
   "cell_type": "markdown",
   "metadata": {},
   "source": [
    "### Analysis of Window Size Selection\n",
    "\n",
    "1. **Effect of Window Size**:\n",
    "   - Smaller window (3 days): More responsive to changes, less smoothing\n",
    "   - Larger window (5 days): More smoothing, slower response\n",
    "\n",
    "2. **Trade-offs**:\n",
    "   - Small window: Better for detecting quick changes, but more sensitive to noise\n",
    "   - Large window: Better for identifying trends, but may miss important changes\n",
    "\n",
    "3. **Window Size Selection**:\n",
    "   - Consider business cycle (e.g., weekly patterns suggest 7-day window)\n",
    "   - Balance between noise reduction and responsiveness\n",
    "   - Use MSE to compare different windows"
   ]
  },
  {
   "cell_type": "markdown",
   "metadata": {},
   "source": [
    "## Part 2: Weighted Moving Average\n",
    "\n",
    "Now we'll implement weighted moving average to give more importance to recent data."
   ]
  },
  {
   "cell_type": "code",
   "execution_count": null,
   "metadata": {},
   "outputs": [],
   "source": [
    "def weighted_moving_average(data, weights):\n",
    "    \"\"\"Calculate weighted moving average.\n",
    "    \n",
    "    Args:\n",
    "        data (array): Input time series data\n",
    "        weights (array): Weights for moving average (should sum to 1)\n",
    "        \n",
    "    Returns:\n",
    "        array: Weighted moving average values\n",
    "    \"\"\"\n",
    "    window = len(weights)\n",
    "    result = np.zeros_like(data)\n",
    "    result[:window-1] = np.nan\n",
    "    \n",
    "    for i in range(window-1, len(data)):\n",
    "        result[i] = np.sum(data[i-window+1:i+1] * weights)\n",
    "        \n",
    "    return result\n",
    "\n",
    "# Define weights (most recent first)\n",
    "weights_3day = np.array([0.5, 0.3, 0.2])\n",
    "weights_5day = np.array([0.3, 0.25, 0.2, 0.15, 0.1])\n",
    "\n",
    "# Calculate weighted moving averages\n",
    "wma_3 = weighted_moving_average(sales_data, weights_3day)\n",
    "wma_5 = weighted_moving_average(sales_data, weights_5day)\n",
    "\n",
    "# Plot comparison\n",
    "plt.figure(figsize=(12, 6))\n",
    "plt.plot(sales_data, marker='o', label='Actual Data')\n",
    "plt.plot(ma_3, '--', label='3-Day SMA')\n",
    "plt.plot(wma_3, marker='s', label='3-Day WMA')\n",
    "plt.plot(ma_5, '--', label='5-Day SMA')\n",
    "plt.plot(wma_5, marker='^', label='5-Day WMA')\n",
    "\n",
    "plt.title('Simple vs Weighted Moving Average')\n",
    "plt.xlabel('Day')\n",
    "plt.ylabel('Sales')\n",
    "plt.legend()\n",
    "plt.grid(True, alpha=0.3)\n",
    "plt.show()\n",
    "\n",
    "# Calculate forecast accuracy for weighted MA\n",
    "mse_wma_3 = np.nanmean((sales_data[2:] - wma_3[2:])**2)\n",
    "mse_wma_5 = np.nanmean((sales_data[4:] - wma_5[4:])**2)\n",
    "\n",
    "print(\"\\nForecast Accuracy Comparison:\")\n",
    "print(\"3-Day Window:\")\n",
    "print(f\"MSE (Simple MA): {mse_3:.2f}\")\n",
    "print(f\"MSE (Weighted MA): {mse_wma_3:.2f}\")\n",
    "print(\"\\n5-Day Window:\")\n",
    "print(f\"MSE (Simple MA): {mse_5:.2f}\")\n",
    "print(f\"MSE (Weighted MA): {mse_wma_5:.2f}\")\n",
    "\n",
    "# Test forecast accuracy\n",
    "if check_forecast_accuracy({'wma_3': mse_wma_3, 'wma_5': mse_wma_5}):\n",
    "    print(\"✓ Forecast accuracy correctly calculated!\")\n",
    "else:\n",
    "    print(\"✗ Check your forecast accuracy calculations\")"
   ]
  },
  {
   "cell_type": "markdown",
   "metadata": {},
   "source": [
    "### Analysis of Results\n",
    "\n",
    "1. **Effect of Weights**:\n",
    "   - Higher weights on recent data: More responsive to recent changes\n",
    "   - Lower weights on older data: Reduces impact of outliers\n",
    "\n",
    "2. **When to Use Weighted MA**:\n",
    "   - Recent data is more relevant (e.g., changing market conditions)\n",
    "   - Need faster response to changes\n",
    "   - Seasonal patterns are present\n",
    "\n",
    "3. **Weight Selection**:\n",
    "   - Weights should sum to 1\n",
    "   - Higher weights for recent data (e.g., exponential decay)\n",
    "   - Consider business context (e.g., weekly cycles)\n",
    "\n",
    "4. **Comparison with Simple MA**:\n",
    "   - WMA typically more responsive to changes\n",
    "   - WMA better for data with trends\n",
    "   - SMA better for stable, noisy data"
   ]
  }
 ],
 "metadata": {
  "kernelspec": {
   "display_name": "base",
   "language": "python",
   "name": "python3"
  },
  "language_info": {
   "codemirror_mode": {
    "name": "ipython",
    "version": 3
   },
   "file_extension": ".py",
   "mimetype": "text/x-python",
   "name": "python",
   "nbconvert_exporter": "python",
   "pygments_lexer": "ipython3",
   "version": "3.12.4"
  }
 },
 "nbformat": 4,
 "nbformat_minor": 4
}
