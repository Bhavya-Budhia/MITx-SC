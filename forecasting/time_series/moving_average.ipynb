{
 "cells": [
  {
   "cell_type": "markdown",
   "metadata": {},
   "source": [
    "# Moving Average Methods\n",
    "\n",
    "You're a demand planner at TechGear, an electronics retailer. You need to analyze and forecast demand for various products using moving average methods.\n",
    "\n",
    "## Learning Objectives\n",
    "1. Understand different moving average techniques\n",
    "2. Implement and compare methods\n",
    "3. Select appropriate window sizes\n",
    "4. Evaluate forecast accuracy"
   ]
  },
  {
   "cell_type": "code",
   "execution_count": null,
   "metadata": {},
   "source": [
    "import numpy as np\n",
    "import pandas as pd\n",
    "import matplotlib.pyplot as plt\n",
    "import seaborn as sns\n",
    "from utils.testing.forecasting_tests import check_moving_average, check_forecast_accuracy\n",
    "\n",
    "# Set plotting style\n",
    "plt.style.use('seaborn')\n",
    "sns.set_palette('husl')"
   ]
  },
  {
   "cell_type": "markdown",
   "metadata": {},
   "source": [
    "## Part 1: Simple Moving Average\n",
    "\n",
    "Calculate simple moving average for laptop sales data."
   ]
  },
  {
   "cell_type": "code",
   "execution_count": null,
   "metadata": {},
   "source": [
    "# Sample data: Daily laptop sales\n",
    "sales_data = np.array([45, 52, 48, 58, 50, 42, 55, 53, 49, 51, 47, 54, 50, 43, 56])\n",
    "\n",
    "###insert code here\n",
    "# Calculate:\n",
    "# a) 3-day moving average\n",
    "# b) 5-day moving average\n",
    "# c) Plot results"
   ]
  },
  {
   "cell_type": "markdown",
   "metadata": {},
   "source": [
    "### Questions to Answer:\n",
    "1. How does window size affect smoothing?\n",
    "2. What are the trade-offs between responsiveness and stability?\n",
    "3. Which window size might be most appropriate here?"
   ]
  },
  {
   "cell_type": "markdown",
   "metadata": {},
   "source": [
    "## Part 2: Weighted Moving Average\n",
    "\n",
    "Calculate weighted moving average giving more importance to recent observations."
   ]
  },
  {
   "cell_type": "code",
   "execution_count": null,
   "metadata": {},
   "source": [
    "# Define weights (most recent first)\n",
    "weights_3day = np.array([0.5, 0.3, 0.2])\n",
    "weights_5day = np.array([0.3, 0.25, 0.2, 0.15, 0.1])\n",
    "\n",
    "###insert code here\n",
    "# Calculate:\n",
    "# a) 3-day weighted moving average\n",
    "# b) 5-day weighted moving average\n",
    "# c) Compare with simple moving average"
   ]
  },
  {
   "cell_type": "markdown",
   "metadata": {},
   "source": [
    "### Questions to Answer:\n",
    "1. How do weights affect the forecast?\n",
    "2. When might weighted averages be preferred?\n",
    "3. How to choose appropriate weights?"
   ]
  },
  {
   "cell_type": "markdown",
   "metadata": {},
   "source": [
    "## Part 3: Centered Moving Average\n",
    "\n",
    "Calculate centered moving average for trend analysis."
   ]
  },
  {
   "cell_type": "code",
   "execution_count": null,
   "metadata": {},
   "source": [
    "# Extended dataset with seasonal pattern\n",
    "seasonal_data = np.array([45, 52, 48, 58, 50, 42, 55, 53, 49, 51, 47, 54,\n",
    "                         50, 43, 56, 54, 50, 59, 51, 43, 56, 54, 50, 52])\n",
    "\n",
    "###insert code here\n",
    "# Calculate:\n",
    "# a) 4-period centered moving average\n",
    "# b) 12-period centered moving average\n",
    "# c) Plot original vs smoothed data"
   ]
  },
  {
   "cell_type": "markdown",
   "metadata": {},
   "source": [
    "### Questions to Answer:\n",
    "1. Why use centered moving averages?\n",
    "2. How does it help identify trends?\n",
    "3. What are the limitations?"
   ]
  },
  {
   "cell_type": "markdown",
   "metadata": {},
   "source": [
    "## Part 4: Performance Comparison\n",
    "\n",
    "Compare different moving average methods."
   ]
  },
  {
   "cell_type": "code",
   "execution_count": null,
   "metadata": {},
   "source": [
    "###insert code here\n",
    "# Calculate and compare:\n",
    "# a) Mean Absolute Error (MAE)\n",
    "# b) Mean Absolute Percentage Error (MAPE)\n",
    "# c) Root Mean Square Error (RMSE)"
   ]
  },
  {
   "cell_type": "markdown",
   "metadata": {},
   "source": [
    "## Extension Questions\n",
    "\n",
    "1. Method Selection:\n",
    "   - When to use each type of moving average?\n",
    "   - How to handle missing data?\n",
    "   - What about seasonal data?\n",
    "\n",
    "2. Implementation Considerations:\n",
    "   - How to handle endpoints?\n",
    "   - What about real-time data?\n",
    "   - How to automate window selection?"
   ]
  }
 ],
 "metadata": {
  "kernelspec": {
   "display_name": "Python 3",
   "language": "python",
   "name": "python3"
  },
  "language_info": {
   "codemirror_mode": {
    "name": "ipython",
    "version": 3
   },
   "file_extension": ".py",
   "mimetype": "text/x-python",
   "name": "python",
   "nbconvert_exporter": "python",
   "pygments_lexer": "ipython3",
   "version": "3.8.0"
  }
 },
 "nbformat": 4,
 "nbformat_minor": 4
}
