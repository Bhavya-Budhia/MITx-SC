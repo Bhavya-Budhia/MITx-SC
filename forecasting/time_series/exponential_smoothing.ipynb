{
 "cells": [
  {
   "cell_type": "markdown",
   "metadata": {},
   "source": [
    "# Exponential Smoothing Methods\n",
    "\n",
    "You're a supply chain analyst at FreshMart, a grocery chain. You need to forecast demand for various products using exponential smoothing methods.\n",
    "\n",
    "## Learning Objectives\n",
    "1. Understand exponential smoothing techniques\n",
    "2. Implement different smoothing methods\n",
    "3. Optimize smoothing parameters\n",
    "4. Handle trends and seasonality"
   ]
  },
  {
   "cell_type": "code",
   "execution_count": null,
   "metadata": {},
   "source": [
    "import numpy as np\n",
    "import pandas as pd\n",
    "import matplotlib.pyplot as plt\n",
    "import seaborn as sns\n",
    "from scipy.optimize import minimize\n",
    "from utils.testing.forecasting_tests import check_exponential_smoothing, check_forecast_accuracy\n",
    "\n",
    "# Set plotting style\n",
    "plt.style.use('seaborn')\n",
    "sns.set_palette('husl')"
   ]
  },
  {
   "cell_type": "markdown",
   "metadata": {},
   "source": [
    "## Part 1: Simple Exponential Smoothing\n",
    "\n",
    "Implement simple exponential smoothing for dairy product sales."
   ]
  },
  {
   "cell_type": "code",
   "execution_count": null,
   "metadata": {},
   "source": [
    "# Sample data: Daily yogurt sales\n",
    "sales_data = np.array([120, 132, 125, 138, 128, 135, 140, 133, 129, 142,\n",
    "                       136, 131, 144, 138, 135, 142, 140, 138, 145, 140])\n",
    "\n",
    "###insert code here\n",
    "# Calculate:\n",
    "# a) Smoothed values with α = 0.2\n",
    "# b) Smoothed values with α = 0.5\n",
    "# c) Plot results"
   ]
  },
  {
   "cell_type": "markdown",
   "metadata": {},
   "source": [
    "### Questions to Answer:\n",
    "1. How does α affect smoothing?\n",
    "2. What's the trade-off in choosing α?\n",
    "3. How to select optimal α?"
   ]
  },
  {
   "cell_type": "markdown",
   "metadata": {},
   "source": [
    "## Part 2: Double Exponential Smoothing (Holt's Method)\n",
    "\n",
    "Implement Holt's method for data with trend."
   ]
  },
  {
   "cell_type": "code",
   "execution_count": null,
   "metadata": {},
   "source": [
    "# Data with trend\n",
    "trend_data = np.array([100, 108, 115, 125, 133, 142, 150, 160, 168, 177,\n",
    "                       185, 195, 203, 212, 220, 230, 238, 247, 255, 265])\n",
    "\n",
    "###insert code here\n",
    "# Calculate:\n",
    "# a) Level and trend components\n",
    "# b) Forecast next 5 periods\n",
    "# c) Compare with simple exponential smoothing"
   ]
  },
  {
   "cell_type": "markdown",
   "metadata": {},
   "source": [
    "### Questions to Answer:\n",
    "1. When is Holt's method appropriate?\n",
    "2. How to choose α and β?\n",
    "3. What happens with different trends?"
   ]
  },
  {
   "cell_type": "markdown",
   "metadata": {},
   "source": [
    "## Part 3: Triple Exponential Smoothing (Holt-Winters' Method)\n",
    "\n",
    "Implement Holt-Winters' method for seasonal data."
   ]
  },
  {
   "cell_type": "code",
   "execution_count": null,
   "metadata": {},
   "source": [
    "# Seasonal data (weekly pattern)\n",
    "seasonal_data = np.array([120, 130, 145, 160, 150, 135, 125,  # Week 1\n",
    "                         125, 135, 150, 165, 155, 140, 130,  # Week 2\n",
    "                         130, 140, 155, 170, 160, 145, 135,  # Week 3\n",
    "                         135, 145, 160, 175, 165, 150, 140]) # Week 4\n",
    "\n",
    "###insert code here\n",
    "# Calculate:\n",
    "# a) Level, trend, and seasonal components\n",
    "# b) Forecast next week\n",
    "# c) Compare with other methods"
   ]
  },
  {
   "cell_type": "markdown",
   "metadata": {},
   "source": [
    "### Questions to Answer:\n",
    "1. How to identify seasonal patterns?\n",
    "2. What's the impact of γ?\n",
    "3. When to use multiplicative vs additive seasonality?"
   ]
  },
  {
   "cell_type": "markdown",
   "metadata": {},
   "source": [
    "## Part 4: Parameter Optimization\n",
    "\n",
    "Optimize smoothing parameters using grid search."
   ]
  },
  {
   "cell_type": "code",
   "execution_count": null,
   "metadata": {},
   "source": [
    "###insert code here\n",
    "# Implement:\n",
    "# a) Grid search for optimal parameters\n",
    "# b) Cross-validation approach\n",
    "# c) Compare parameter combinations"
   ]
  },
  {
   "cell_type": "markdown",
   "metadata": {},
   "source": [
    "## Extension Questions\n",
    "\n",
    "1. Method Selection:\n",
    "   - Which method for which pattern?\n",
    "   - How to handle multiple seasonality?\n",
    "   - What about irregular patterns?\n",
    "\n",
    "2. Implementation Considerations:\n",
    "   - How to initialize components?\n",
    "   - What about missing values?\n",
    "   - How to handle outliers?"
   ]
  }
 ],
 "metadata": {
  "kernelspec": {
   "display_name": "Python 3",
   "language": "python",
   "name": "python3"
  },
  "language_info": {
   "codemirror_mode": {
    "name": "ipython",
    "version": 3
   },
   "file_extension": ".py",
   "mimetype": "text/x-python",
   "name": "python",
   "nbconvert_exporter": "python",
   "pygments_lexer": "ipython3",
   "version": "3.8.0"
  }
 },
 "nbformat": 4,
 "nbformat_minor": 4
}
