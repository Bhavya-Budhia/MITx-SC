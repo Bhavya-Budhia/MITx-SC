{
 "cells": [
  {
   "cell_type": "markdown",
   "metadata": {},
   "source": [
    "# Booboo Interactive: Probability in Supply Chain Risk Analysis\n",
    "\n",
    "This notebook demonstrates probability concepts through a case study of Booboo's toy manufacturing supply chain."
   ]
  },
  {
   "cell_type": "code",
   "execution_count": null,
   "metadata": {},
   "outputs": [],
   "source": [
    "import numpy as np\n",
    "import pandas as pd\n",
    "import matplotlib.pyplot as plt\n",
    "from scipy import stats"
   ]
  },
  {
   "cell_type": "markdown",
   "metadata": {},
   "source": [
    "## 1. Risk Assessment Framework\n",
    "We'll analyze supply chain risks using probability distributions."
   ]
  },
  {
   "cell_type": "code",
   "execution_count": null,
   "metadata": {},
   "outputs": [],
   "source": [
    "def calculate_risk_probability(mean_demand, std_demand, stock_level):\n",
    "    \"\"\"Calculate probability of stockout given demand distribution.\"\"\"\n",
    "    z_score = (stock_level - mean_demand) / std_demand\n",
    "    stockout_prob = 1 - stats.norm.cdf(z_score)\n",
    "    return stockout_prob"
   ]
  }
 ],
 "metadata": {
  "kernelspec": {
   "display_name": "Python 3",
   "language": "python",
   "name": "python3"
  },
  "language_info": {
   "codemirror_mode": {
    "name": "ipython",
    "version": 3
   },
   "file_extension": ".py",
   "mimetype": "text/x-python",
   "name": "python",
   "nbconvert_exporter": "python",
   "pygments_lexer": "ipython3",
   "version": "3.8.0"
  }
 },
 "nbformat": 4,
 "nbformat_minor": 4
}
