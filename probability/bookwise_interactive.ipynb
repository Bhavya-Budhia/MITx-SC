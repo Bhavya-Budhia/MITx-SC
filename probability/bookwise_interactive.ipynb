{
 "cells": [
  {
   "cell_type": "markdown",
   "metadata": {},
   "source": [
    "# Bookwise Interactive: Probability in Book Supply Chain\n",
    "\n",
    "This notebook demonstrates probability concepts through a case study of Bookwise's publishing supply chain."
   ]
  },
  {
   "cell_type": "code",
   "execution_count": null,
   "metadata": {},
   "outputs": [],
   "source": [
    "import numpy as np\n",
    "import pandas as pd\n",
    "import matplotlib.pyplot as plt\n",
    "from scipy import stats"
   ]
  },
  {
   "cell_type": "markdown",
   "metadata": {},
   "source": [
    "## 1. Demand Forecasting\n",
    "We'll use probability distributions to model book demand."
   ]
  },
  {
   "cell_type": "code",
   "execution_count": null,
   "metadata": {},
   "outputs": [],
   "source": [
    "def forecast_demand(historical_data, confidence_level=0.95):\n",
    "    \"\"\"Forecast future demand with confidence intervals.\"\"\"\n",
    "    mean_demand = np.mean(historical_data)\n",
    "    std_demand = np.std(historical_data)\n",
    "    z_score = stats.norm.ppf((1 + confidence_level) / 2)\n",
    "    \n",
    "    lower_bound = mean_demand - z_score * std_demand\n",
    "    upper_bound = mean_demand + z_score * std_demand\n",
    "    \n",
    "    return mean_demand, (lower_bound, upper_bound)"
   ]
  }
 ],
 "metadata": {
  "kernelspec": {
   "display_name": "Python 3",
   "language": "python",
   "name": "python3"
  },
  "language_info": {
   "codemirror_mode": {
    "name": "ipython",
    "version": 3
   },
   "file_extension": ".py",
   "mimetype": "text/x-python",
   "name": "python",
   "nbconvert_exporter": "python",
   "pygments_lexer": "ipython3",
   "version": "3.8.0"
  }
 },
 "nbformat": 4,
 "nbformat_minor": 4
}
