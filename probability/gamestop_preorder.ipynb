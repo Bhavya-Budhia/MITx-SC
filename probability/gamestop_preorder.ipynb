{
 "cells": [
  {
   "cell_type": "markdown",
   "metadata": {},
   "source": [
    "# GameStop Pre-order Bonus Analysis\n",
    "\n",
    "As a marketing manager at GameStop, Sarah Chen is preparing special collector's cards as pre-order bonuses for the launch of \"Stellar Odyssey VII\". For every $50 spent on pre-orders, customers receive one random collector's card from a limited edition set. Sarah has prepared 300 cards total, and once a card is given away, it won't be replaced.\n",
    "\n",
    "## Card Distribution\n",
    "| Card Type | Quantity |\n",
    "|-----------|----------|\n",
    "| Legendary Heroes | 35 |\n",
    "| Rare Weapons | 65 |\n",
    "| Epic Locations | 42 |\n",
    "| Special Moves | 48 |\n",
    "| Boss Battles | 55 |\n",
    "| Secret Areas | 25 |\n",
    "| Hidden Quests | 30 |"
   ]
  },
  {
   "cell_type": "code",
   "execution_count": null,
   "metadata": {},
   "source": [
    "import numpy as np\n",
    "from scipy import stats\n",
    "from utils.testing.probability_tests import (\n",
    "    check_single_event_prob,\n",
    "    check_conditional_prob,\n",
    "    check_multiple_event_prob,\n",
    "    calculate_combination,\n",
    "    verify_probability_sum\n",
    ")"
   ]
  },
  {
   "cell_type": "markdown",
   "metadata": {},
   "source": [
    "## Part 1: Single Event Probability\n",
    "\n",
    "Calculate the probability that the first customer who spends $75 (earning one card) gets a Rare Weapons card.\n",
    "\n",
    "Hint:\n",
    "- Total cards = 300\n",
    "- Rare Weapons cards = 65\n",
    "- Use simple probability: favorable outcomes / total outcomes"
   ]
  },
  {
   "cell_type": "code",
   "execution_count": null,
   "metadata": {},
   "source": [
    "### insert code here ###\n",
    "# Calculate single event probability\n",
    "single_event_prob = None  # Replace None with your calculation\n",
    "\n",
    "# Test your answer\n",
    "if check_single_event_prob(single_event_prob):\n",
    "    print(\"✓ Correct! The probability is approximately 0.2167 (65/300)\")\n",
    "else:\n",
    "    print(\"✗ Try again. Hint: divide number of Rare Weapons by total cards\")"
   ]
  },
  {
   "cell_type": "markdown",
   "metadata": {},
   "source": [
    "## Part 2: Conditional Probability\n",
    "\n",
    "Given that the first card was a Rare Weapons card, calculate the probability that the second customer who spends $50 also gets a Rare Weapons card.\n",
    "\n",
    "Hint:\n",
    "- After first draw: 64 Rare Weapons cards remain\n",
    "- Total remaining cards = 299\n",
    "- Use conditional probability formula"
   ]
  },
  {
   "cell_type": "code",
   "execution_count": null,
   "metadata": {},
   "source": [
    "### insert code here ###\n",
    "# Calculate conditional probability\n",
    "conditional_prob = None  # Replace None with your calculation\n",
    "\n",
    "# Test your answer\n",
    "if check_conditional_prob(conditional_prob):\n",
    "    print(\"✓ Correct! The probability is approximately 0.2131 (64/299)\")\n",
    "else:\n",
    "    print(\"✗ Try again. Remember to account for the first card being removed\")"
   ]
  },
  {
   "cell_type": "markdown",
   "metadata": {},
   "source": [
    "## Part 3: Multiple Event Probability\n",
    "\n",
    "A customer spends $150 (earning 3 cards). Calculate the probability of getting:\n",
    "- 2 Epic Locations cards\n",
    "- 1 Boss Battles card\n",
    "(order doesn't matter)\n",
    "\n",
    "Hint:\n",
    "- Use combinations for unordered selection\n",
    "- Consider total ways to draw 3 cards vs. favorable outcomes\n",
    "- Use calculate_combination() helper function"
   ]
  },
  {
   "cell_type": "code",
   "execution_count": null,
   "metadata": {},
   "source": [
    "### insert code here ###\n",
    "# Calculate multiple event probability\n",
    "multiple_event_prob = None  # Replace None with your calculation\n",
    "\n",
    "# Test your answer\n",
    "if check_multiple_event_prob(multiple_event_prob):\n",
    "    print(\"✓ Correct! The probability is approximately 0.0183\")\n",
    "else:\n",
    "    print(\"✗ Try again. Use combinations for unordered selection\")"
   ]
  },
  {
   "cell_type": "markdown",
   "metadata": {},
   "source": [
    "## Extension Questions\n",
    "\n",
    "1. Probability Analysis:\n",
    "   - How would the probabilities change if cards were replaced after each draw?\n",
    "   - What's the probability of getting at least one Legendary Heroes card in 3 draws?\n",
    "\n",
    "2. Business Strategy:\n",
    "   - Should GameStop offer different odds for different spending levels?\n",
    "   - How could they optimize the distribution of cards to maximize customer satisfaction?\n",
    "\n",
    "## Mathematical Notes\n",
    "\n",
    "For reference, here are the key probability concepts used:\n",
    "1. Single Event Probability: P(A) = n(A)/n(S)\n",
    "2. Conditional Probability: P(B|A) = P(A∩B)/P(A)\n",
    "3. Multiple Event Probability (without replacement): Uses combination formula\n",
    "\n",
    "Remember to account for:\n",
    "- Sample space changes after each draw\n",
    "- Order doesn't matter for multiple events\n",
    "- Total probability must sum to 1"
   ]
  }
 ],
 "metadata": {
  "kernelspec": {
   "display_name": "Python 3",
   "language": "python",
   "name": "python3"
  },
  "language_info": {
   "codemirror_mode": {
    "name": "ipython",
    "version": 3
   },
   "file_extension": ".py",
   "mimetype": "text/x-python",
   "name": "python",
   "nbconvert_exporter": "python",
   "pygments_lexer": "ipython3",
   "version": "3.8.0"
  }
 },
 "nbformat": 4,
 "nbformat_minor": 4
}
