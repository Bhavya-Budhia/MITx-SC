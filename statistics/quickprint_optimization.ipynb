{
 "cells": [
  {
   "cell_type": "markdown",
   "metadata": {},
   "source": [
    "# QuickPrint Processing Time Analysis\n",
    "\n",
    "QuickPrint is a digital printing service that's testing a new pre-processing workflow to reduce printing times for their high-volume color documents. The standard processing time is 720 seconds with a variance of 30 seconds. To improve efficiency during peak hours, the team is experimenting with a new AI-powered pre-processing system.\n",
    "\n",
    "## Experiment Data\n",
    "\n",
    "The team collected the following processing times (in seconds) using the new system:\n",
    "\n",
    "| Print Job | Processing Time (seconds) |\n",
    "|-----------|-------------------------|\n",
    "| 1 | 685 |\n",
    "| 2 | 695 |\n",
    "| 3 | 701 |\n",
    "| 4 | 688 |\n",
    "| 5 | 692 |\n",
    "| 6 | 679 |\n",
    "| 7 | 683 |\n",
    "| 8 | 698 |\n",
    "| 9 | 691 |\n",
    "| 10 | 687 |"
   ]
  },
  {
   "cell_type": "code",
   "execution_count": null,
   "metadata": {},
   "source": [
    "import numpy as np\n",
    "from scipy import stats\n",
    "import matplotlib.pyplot as plt\n",
    "from utils.testing.hypothesis_tests import (\n",
    "    check_test_statistic,\n",
    "    check_p_value,\n",
    "    check_conclusion,\n",
    "    check_assumptions\n",
    ")"
   ]
  },
  {
   "cell_type": "markdown",
   "metadata": {},
   "source": [
    "## Part 1: Hypothesis Formation\n",
    "\n",
    "Before conducting the hypothesis test, we need to:\n",
    "1. State the null hypothesis (H₀)\n",
    "2. State the alternative hypothesis (H₁)\n",
    "3. Identify the appropriate test type\n",
    "\n",
    "Hint:\n",
    "- Consider what it means for the new system to be \"better\"\n",
    "- Think about the direction of the test (two-tailed vs one-tailed)\n",
    "- Remember the standard processing time (μ₀ = 720)"
   ]
  },
  {
   "cell_type": "code",
   "execution_count": null,
   "metadata": {},
   "source": [
    "### insert code here ###\n",
    "# Define hypotheses and test type\n",
    "processing_times = np.array([685, 695, 701, 688, 692, 679, 683, 698, 691, 687])\n",
    "mu_0 = 720  # Standard processing time\n",
    "alpha = 0.05  # Significance level\n",
    "\n",
    "# Print your hypotheses\n",
    "print(\"Null Hypothesis (H₀): μ = 720 seconds\")\n",
    "print(\"Alternative Hypothesis (H₁): μ < 720 seconds\")\n",
    "print(\"Test Type: One-tailed t-test\")"
   ]
  },
  {
   "cell_type": "markdown",
   "metadata": {},
   "source": [
    "## Part 2: Test Statistics\n",
    "\n",
    "Calculate the necessary test statistics:\n",
    "1. Sample mean (x̄)\n",
    "2. Sample standard deviation (s)\n",
    "3. Test statistic (t)\n",
    "4. Degrees of freedom (df)\n",
    "\n",
    "Hint:\n",
    "- Use numpy functions for calculations\n",
    "- Remember the formula for t-statistic: t = (x̄ - μ₀)/(s/√n)"
   ]
  },
  {
   "cell_type": "code",
   "execution_count": null,
   "metadata": {},
   "source": [
    "### insert code here ###\n",
    "# Calculate test statistics\n",
    "test_statistic = None  # Replace None with your calculation\n",
    "\n",
    "# Test your calculation\n",
    "if check_test_statistic(test_statistic):\n",
    "    print(\"✓ Test statistic calculation correct!\")\n",
    "else:\n",
    "    print(\"✗ Check your test statistic calculation\")"
   ]
  },
  {
   "cell_type": "markdown",
   "metadata": {},
   "source": [
    "## Part 3: Analysis and Conclusion\n",
    "\n",
    "Perform the hypothesis test:\n",
    "1. Calculate the p-value\n",
    "2. Compare to significance level (α = 0.05)\n",
    "3. Make a conclusion\n",
    "\n",
    "Hint:\n",
    "- Use scipy.stats for p-value calculation\n",
    "- Remember this is a one-tailed test\n",
    "- Consider the business implications"
   ]
  },
  {
   "cell_type": "code",
   "execution_count": null,
   "metadata": {},
   "source": [
    "### insert code here ###\n",
    "# Calculate p-value and make conclusion\n",
    "p_value = None  # Replace None with your calculation\n",
    "reject_null = None  # Replace None with True/False\n",
    "\n",
    "# Test your calculations\n",
    "if check_p_value(p_value):\n",
    "    print(\"✓ P-value calculation correct!\")\n",
    "else:\n",
    "    print(\"✗ Check your p-value calculation\")\n",
    "\n",
    "if check_conclusion(reject_null):\n",
    "    print(\"✓ Conclusion is correct!\")\n",
    "else:\n",
    "    print(\"✗ Review your hypothesis test conclusion\")"
   ]
  },
  {
   "cell_type": "markdown",
   "metadata": {},
   "source": [
    "## Part 4: Visualization\n",
    "\n",
    "Create visual representations of:\n",
    "1. Sample distribution\n",
    "2. Test statistic on t-distribution\n",
    "3. Critical region and p-value\n",
    "\n",
    "This will help communicate your findings to the QuickPrint team."
   ]
  },
  {
   "cell_type": "code",
   "execution_count": null,
   "metadata": {},
   "source": [
    "### insert code here ###\n",
    "# Create visualizations\n",
    "\n",
    "# 1. Sample Distribution\n",
    "plt.figure(figsize=(12, 4))\n",
    "plt.subplot(131)\n",
    "plt.hist(processing_times, bins='auto', alpha=0.7)\n",
    "plt.axvline(mu_0, color='r', linestyle='--', label='Standard Time')\n",
    "plt.title('Sample Distribution')\n",
    "plt.xlabel('Processing Time (s)')\n",
    "plt.ylabel('Frequency')\n",
    "plt.legend()\n",
    "\n",
    "# Add your visualizations for t-distribution and critical region"
   ]
  },
  {
   "cell_type": "markdown",
   "metadata": {},
   "source": [
    "## Extension Questions\n",
    "\n",
    "1. Statistical Considerations:\n",
    "   - What assumptions does this test rely on?\n",
    "   - How would the analysis change with a larger sample size?\n",
    "   - What if we used a different significance level?\n",
    "\n",
    "2. Business Implications:\n",
    "   - What cost savings could this improvement represent?\n",
    "   - Should QuickPrint implement the new system?\n",
    "   - What additional data might be helpful?\n",
    "\n",
    "## Statistical Notes\n",
    "\n",
    "Key concepts used:\n",
    "1. One-sample t-test\n",
    "2. Test statistic calculation\n",
    "3. P-value interpretation\n",
    "4. Significance levels\n",
    "\n",
    "Remember:\n",
    "- Check test assumptions\n",
    "- Consider practical significance\n",
    "- Think about business context"
   ]
  }
 ],
 "metadata": {
  "kernelspec": {
   "display_name": "Python 3",
   "language": "python",
   "name": "python3"
  },
  "language_info": {
   "codemirror_mode": {
    "name": "ipython",
    "version": 3
   },
   "file_extension": ".py",
   "mimetype": "text/x-python",
   "name": "python",
   "nbconvert_exporter": "python",
   "pygments_lexer": "ipython3",
   "version": "3.8.0"
  }
 },
 "nbformat": 4,
 "nbformat_minor": 4
}
