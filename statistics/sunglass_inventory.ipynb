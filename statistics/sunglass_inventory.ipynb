{
 "cells": [
  {
   "cell_type": "markdown",
   "metadata": {},
   "source": [
    "# SunGlass Hut Inventory Management\n",
    "\n",
    "You're the new supply chain analyst at SunGlass Hut, managing inventory for their premium \"RayMaster\" aviator sunglasses across 150 retail locations. Historical data shows that monthly demand per store follows a normal distribution with a mean of 75 units and standard deviation of 25 units. You're considering stocking 90 units per store."
   ]
  },
  {
   "cell_type": "code",
   "execution_count": null,
   "metadata": {},
   "outputs": [],
   "source": [
    "import numpy as np\n",
    "from scipy import stats\n",
    "import matplotlib.pyplot as plt\n",
    "from utils.testing.inventory_tests import (\n",
    "    check_service_level,\n",
    "    check_z_score,\n",
    "    check_two_stage_system,\n",
    "    verify_inventory_levels\n",
    ")"
   ]
  },
  {
   "cell_type": "markdown",
   "metadata": {},
   "source": [
    "## Part 1: Basic Probability Analysis\n",
    "\n",
    "Calculate key probabilities for the current inventory strategy."
   ]
  },
  {
   "cell_type": "code",
   "execution_count": null,
   "metadata": {},
   "outputs": [],
   "source": [
    "# Define parameters\n",
    "mean = 75\n",
    "std_dev = 25\n",
    "stock_level = 90\n",
    "\n",
    "###insert code here\n",
    "# Calculate:\n",
    "# a) Probability of meeting demand with k=90 units\n",
    "# b) Probability of stockout\n",
    "# c) Z-value for k=90\n",
    "# d) Verify using standard normal distribution"
   ]
  },
  {
   "cell_type": "markdown",
   "metadata": {},
   "source": [
    "### Questions to Answer:\n",
    "1. What's the probability of meeting demand with 90 units?\n",
    "2. What's the stockout probability?\n",
    "3. What's the z-value for inventory level k=90?\n",
    "4. Using standard normal form, verify your probability from question 1"
   ]
  },
  {
   "cell_type": "markdown",
   "metadata": {},
   "source": [
    "## Part 2: Service Level Analysis\n",
    "\n",
    "Determine inventory levels needed to meet different service level targets."
   ]
  },
  {
   "cell_type": "code",
   "execution_count": null,
   "metadata": {},
   "outputs": [],
   "source": [
    "###insert code here\n",
    "# Calculate:\n",
    "# a) Units needed for 90% service level\n",
    "# b) Units needed for 95% service level\n",
    "# c) Z-value for 95% service level\n",
    "# d) Verify inventory level calculation"
   ]
  },
  {
   "cell_type": "markdown",
   "metadata": {},
   "source": [
    "### Questions to Answer:\n",
    "1. How many units needed to meet 90% of demand?\n",
    "2. How many units needed to meet 95% of demand?\n",
    "3. What's the z-value for 95% service level?\n",
    "4. Verify your inventory level calculation"
   ]
  },
  {
   "cell_type": "markdown",
   "metadata": {},
   "source": [
    "## Part 3: Two-Stage Inventory System\n",
    "\n",
    "Analyze a system with both store and warehouse inventory."
   ]
  },
  {
   "cell_type": "code",
   "execution_count": null,
   "metadata": {},
   "outputs": [],
   "source": [
    "# Store stock: 80 units\n",
    "# Warehouse backup: 40 units\n",
    "\n",
    "###insert code here\n",
    "# Calculate:\n",
    "# a) Probability of meeting demand from store stock only\n",
    "# b) Probability of needing warehouse stock but not exceeding total stock\n",
    "# c) Probability of total stockout\n",
    "# d) Overall probability of meeting demand"
   ]
  },
  {
   "cell_type": "markdown",
   "metadata": {},
   "source": [
    "### Questions to Answer:\n",
    "1. Probability of meeting demand from store stock only\n",
    "2. Probability of needing warehouse stock but not exceeding total stock\n",
    "3. Probability of total stockout\n",
    "4. Overall probability of meeting demand"
   ]
  },
  {
   "cell_type": "markdown",
   "metadata": {},
   "source": [
    "## Visualization\n",
    "\n",
    "Create visual representations of the inventory system."
   ]
  },
  {
   "cell_type": "code",
   "execution_count": null,
   "metadata": {},
   "outputs": [],
   "source": [
    "###insert code here\n",
    "# Create plots for:\n",
    "# 1. Normal distribution with key points\n",
    "# 2. Service levels and corresponding inventory\n",
    "# 3. Two-stage system probabilities"
   ]
  },
  {
   "cell_type": "markdown",
   "metadata": {},
   "source": [
    "#### Check your answers by running the cell below!"
   ]
  },
  {
   "cell_type": "code",
   "execution_count": null,
   "metadata": {},
   "outputs": [],
   "source": [
    "print(\"\\nRunning verification tests...\")\n",
    "\n",
    "# Test service level calculations\n",
    "#service_level_result = check_service_level(prob_meeting_demand)\n",
    "#print(\"Service Level Test:\", \"Passed ✓\" if service_level_result else \"Failed ✗\")\n",
    "\n",
    "# Test z-score calculations\n",
    "z_score_result = check_z_score(z_value)\n",
    "print(\"Z-Score Test:\", \"Passed ✓\" if z_score_result else \"Failed ✗\")\n",
    "\n",
    "# Test two-stage system calculations\n",
    "two_stage_result = check_two_stage_system(prob_store, prob_warehouse, prob_total_stockout)\n",
    "print(\"Two-Stage System Test:\", \"Passed ✓\" if two_stage_result else \"Failed ✗\")\n",
    "\n",
    "# Test inventory levels\n",
    "#inventory_result = verify_inventory_levels(inv_90, inv_95)\n",
    "#print(\"Inventory Levels Test:\", \"Passed ✓\" if inventory_result else \"Failed ✗\")\n",
    "\n",
    "# Print overall test results\n",
    "#all_tests_passed = all([service_level_result, z_score_result, two_stage_result, inventory_result])\n",
    "all_tests_passed = all([z_score_result, two_stage_result])\n",
    "\n",
    "print(\"\\nOverall Test Result:\", \"All Tests Passed! ✓\" if all_tests_passed else \"Some Tests Failed ✗\")"
   ]
  },
  {
   "cell_type": "markdown",
   "metadata": {},
   "source": [
    "## Extension Questions\n",
    "\n",
    "1. Cost Analysis:\n",
    "   - How would holding costs affect optimal inventory levels?\n",
    "   - What's the trade-off between service level and inventory cost?\n",
    "\n",
    "2. Multi-Store Strategy:\n",
    "   - How could you optimize inventory across stores?\n",
    "   - What factors would influence store-specific inventory levels?"
   ]
  }
 ],
 "metadata": {
  "kernelspec": {
   "display_name": "Python 3",
   "language": "python",
   "name": "python3"
  },
  "language_info": {
   "codemirror_mode": {
    "name": "ipython",
    "version": 3
   },
   "file_extension": ".py",
   "mimetype": "text/x-python",
   "name": "python",
   "nbconvert_exporter": "python",
   "pygments_lexer": "ipython3",
   "version": "3.8.0"
  }
 },
 "nbformat": 4,
 "nbformat_minor": 4
}
