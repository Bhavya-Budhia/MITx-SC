{
 "cells": [
  {
   "cell_type": "markdown",
   "metadata": {},
   "source": [
    "# Production Line Optimization Exercise\n",
    "\n",
    "In this exercise, you will solve a production line optimization problem using linear programming. You will:\n",
    "1. Define decision variables\n",
    "2. Create constraints\n",
    "3. Build the objective function\n",
    "4. Solve and analyze the results\n",
    "\n",
    "## Problem Statement\n",
    "\n",
    "TechCraft builds custom gaming PCs for North American customers. They need to optimize their production across multiple facilities to maximize profit while meeting demand constraints.\n",
    "\n",
    "### Production Facilities:\n",
    "- Primary facilities (dedicated lines, must be used):\n",
    "  * Taiwan facility (T1): 1,800 units/month\n",
    "  * Mexico facility (M1): 6,000 units/month\n",
    "  * California facility (C): 1,500 units/month\n",
    "- Optional facilities (can be repurposed):\n",
    "  * Taiwan second line (T2): 2,200 units/month\n",
    "  * Mexico second line (M2): 2,000 units/month\n",
    "\n",
    "### Fixed Costs for Repurposing:\n",
    "- Taiwan second line (T2): $21,100\n",
    "- Mexico second line (M2): $41,700\n",
    "\n",
    "### Expected Demand:\n",
    "- Las Vegas (WH1): 6,000 units\n",
    "- Denver (WH2): 5,200 units\n",
    "\n",
    "### Profit per Unit ($):\n",
    "| Production Line | Las Vegas (WH1) | Denver (WH2) | Capacity (units/month) |\n",
    "|----------------|-----------------|---------------|----------------------|\n",
    "| Taiwan (T1)    | 46              | 49           | 1,800               |\n",
    "| Mexico (M1)    | 30              | 35           | 6,000               |\n",
    "| California (C) | 82              | 83           | 1,500               |\n",
    "| Taiwan 2 (T2)  | 44              | 52           | 2,200               |\n",
    "| Mexico 2 (M2)  | 86              | 81           | 2,000               |"
   ]
  },
  {
   "cell_type": "markdown",
   "metadata": {},
   "source": [
    "## Setup\n",
    "\n",
    "First, let's import the necessary packages and define our test functions."
   ]
  },
  {
   "cell_type": "code",
   "execution_count": null,
   "metadata": {},
   "outputs": [],
   "source": [
    "import pulp\n",
    "import numpy as np\n",
    "import pandas as pd\n",
    "from optimization_tests import check_variables, check_constraints, check_objective"
   ]
  },
  {
   "cell_type": "markdown",
   "metadata": {},
   "source": [
    "## Step 1: Define the Model and Variables\n",
    "\n",
    "Create the PuLP model and define the decision variables. You need to create:\n",
    "\n",
    "1. A PuLP maximization problem\n",
    "2. Decision variables for units produced at each facility for each warehouse (hint: use `LpVariable.dicts`)\n",
    "3. Binary variables for optional production lines\n",
    "\n",
    "### Graded Cell\n",
    "Complete the code below:"
   ]
  },
  {
   "cell_type": "code",
   "execution_count": null,
   "metadata": {},
   "outputs": [],
   "source": [
    "# Define production lines and warehouses\n",
    "production_lines = ['T1', 'M1', 'C', 'T2', 'M2']\n",
    "warehouses = ['WH1', 'WH2']\n",
    "\n",
    "# YOUR CODE HERE\n",
    "# 1. Create the model\n",
    "model = None\n",
    "\n",
    "# 2. Create decision variables for production\n",
    "vars = None\n",
    "\n",
    "# 3. Create binary variables for optional lines\n",
    "use_line = None"
   ]
  },
  {
   "cell_type": "code",
   "execution_count": null,
   "metadata": {},
   "outputs": [],
   "source": [
    "# Test your variable definitions\n",
    "check_variables(model, vars, use_line)"
   ]
  },
  {
   "cell_type": "markdown",
   "metadata": {},
   "source": [
    "## Step 2: Define Constraints\n",
    "\n",
    "Now add the following constraints to your model:\n",
    "1. Demand constraints for each warehouse\n",
    "2. Capacity constraints for each production line\n",
    "3. Optional line usage constraint (only one can be used)\n",
    "4. Link optional lines to their usage\n",
    "\n",
    "### Graded Cell\n",
    "Complete the code below:"
   ]
  },
  {
   "cell_type": "code",
   "execution_count": null,
   "metadata": {},
   "outputs": [],
   "source": [
    "# Define capacities\n",
    "capacities = {\n",
    "    'T1': 1800,\n",
    "    'M1': 6000,\n",
    "    'C': 1500,\n",
    "    'T2': 2200,\n",
    "    'M2': 2000\n",
    "}\n",
    "\n",
    "# YOUR CODE HERE\n",
    "# 1. Add demand constraints\n",
    "\n",
    "# 2. Add capacity constraints\n",
    "\n",
    "# 3. Add optional line constraint\n",
    "\n",
    "# 4. Link optional lines to usage\n"
   ]
  },
  {
   "cell_type": "code",
   "execution_count": null,
   "metadata": {},
   "outputs": [],
   "source": [
    "# Test your constraints\n",
    "check_constraints(model, vars, use_line, capacities)"
   ]
  },
  {
   "cell_type": "markdown",
   "metadata": {},
   "source": [
    "## Step 3: Define the Objective Function\n",
    "\n",
    "Create the objective function that maximizes total profit:\n",
    "1. Calculate revenue from all production lines\n",
    "2. Subtract fixed costs for optional lines used\n",
    "\n",
    "### Graded Cell\n",
    "Complete the code below:"
   ]
  },
  {
   "cell_type": "code",
   "execution_count": null,
   "metadata": {},
   "outputs": [],
   "source": [
    "# Define profits and fixed costs\n",
    "profits = {\n",
    "    ('T1', 'WH1'): 46, ('T1', 'WH2'): 49,\n",
    "    ('M1', 'WH1'): 30, ('M1', 'WH2'): 35,\n",
    "    ('C', 'WH1'): 82, ('C', 'WH2'): 83,\n",
    "    ('T2', 'WH1'): 44, ('T2', 'WH2'): 52,\n",
    "    ('M2', 'WH1'): 86, ('M2', 'WH2'): 81\n",
    "}\n",
    "\n",
    "fixed_costs = {\n",
    "    'T2': 21100,\n",
    "    'M2': 41700\n",
    "}\n",
    "\n",
    "# YOUR CODE HERE\n",
    "# Add the objective function to the model\n"
   ]
  },
  {
   "cell_type": "code",
   "execution_count": null,
   "metadata": {},
   "outputs": [],
   "source": [
    "# Test your objective function\n",
    "check_objective(model, vars, use_line, profits, fixed_costs)"
   ]
  },
  {
   "cell_type": "markdown",
   "metadata": {},
   "source": [
    "## Step 4: Solve and Analyze Results\n",
    "\n",
    "Now that you've built the complete model, let's solve it and analyze the results!"
   ]
  },
  {
   "cell_type": "code",
   "execution_count": null,
   "metadata": {},
   "outputs": [],
   "source": [
    "# Solve the model\n",
    "model.solve()\n",
    "\n",
    "# Create results dataframe\n",
    "results = []\n",
    "for i in production_lines:\n",
    "    total_production = sum(vars[i,j].value() for j in warehouses)\n",
    "    if total_production > 0:\n",
    "        for j in warehouses:\n",
    "            if vars[i,j].value() > 0:\n",
    "                results.append({\n",
    "                    'Production Line': i,\n",
    "                    'Warehouse': j,\n",
    "                    'Units': int(vars[i,j].value()),\n",
    "                    'Capacity': capacities[i],\n",
    "                    'Capacity Utilization': f\"{(total_production/capacities[i])*100:.1f}%\",\n",
    "                    'Profit per Unit': profits[i,j],\n",
    "                    'Total Profit': int(vars[i,j].value() * profits[i,j])\n",
    "                })\n",
    "\n",
    "df_results = pd.DataFrame(results)\n",
    "print(\"Production Plan:\")\n",
    "print(df_results)\n",
    "\n",
    "# Calculate total profit including fixed costs\n",
    "total_profit = pulp.value(model.objective)\n",
    "fixed_costs_used = sum(fixed_costs[line] * use_line[line].value() for line in ['T2', 'M2'])\n",
    "\n",
    "print(f\"\\nProfit from Production: ${total_profit + fixed_costs_used:,.2f}\")\n",
    "print(f\"Fixed Costs: ${fixed_costs_used:,.2f}\")\n",
    "print(f\"Net Profit: ${total_profit:,.2f}\")\n",
    "\n",
    "# Show which optional line was used\n",
    "print(\"\\nOptional Lines Used:\")\n",
    "for line in ['T2', 'M2']:\n",
    "    if use_line[line].value() == 1:\n",
    "        print(f\"- {line} is active (Fixed Cost: ${fixed_costs[line]:,})\")"
   ]
  }
 ],
 "metadata": {
  "kernelspec": {
   "display_name": "Python 3",
   "language": "python",
   "name": "python3"
  },
  "language_info": {
   "codemirror_mode": {
    "name": "ipython",
    "version": 3
   },
   "file_extension": ".py",
   "mimetype": "text/x-python",
   "name": "python",
   "nbconvert_exporter": "python",
   "pygments_lexer": "ipython3",
   "version": "3.8.0"
  }
 },
 "nbformat": 4,
 "nbformat_minor": 4
}
