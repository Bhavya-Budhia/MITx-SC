{
 "cells": [
  {
   "cell_type": "markdown",
   "metadata": {},
   "source": [
    "# FashionFlow Network Design Challenge\n",
    "\n",
    "## Background\n",
    "FashionFlow, a rapidly growing clothing retailer, needs your help optimizing their distribution network. They operate:\n",
    "- 5 manufacturing facilities across the country\n",
    "- 2 cross-dock facilities for efficient sorting and redistribution\n",
    "- 5 regional distribution centers (DCs) serving different market areas\n",
    "\n",
    "They produce two main product lines:\n",
    "- Premium: High-end fashion items with higher margins\n",
    "- Casual: Everyday wear with higher volumes\n",
    "\n",
    "## Challenge\n",
    "Help FashionFlow minimize their total transportation costs while:\n",
    "1. Meeting all customer demand at each DC\n",
    "2. Respecting factory production capacity limits\n",
    "3. Maintaining flow balance at cross-dock facilities\n",
    "\n",
    "## Data\n",
    "The following data is provided:\n",
    "- Transportation costs from factories to cross-docks\n",
    "- Transportation costs from cross-docks to DCs\n",
    "- Demand at each DC for both product lines\n",
    "- Production capacity at each factory\n",
    "\n",
    "## Your Task\n",
    "1. Import required libraries\n",
    "2. Create the optimization model\n",
    "3. Define decision variables\n",
    "4. Set up the objective function\n",
    "5. Add necessary constraints\n",
    "6. Solve the model and analyze results\n",
    "\n",
    "## Getting Started\n",
    "First, import the required libraries:"
   ]
  },
  {
   "cell_type": "code",
   "execution_count": null,
   "metadata": {},
   "outputs": [],
   "source": [
    "# Import required libraries\n",
    "import pandas as pd\n",
    "import pulp"
   ]
  },
  {
   "cell_type": "markdown",
   "metadata": {},
   "source": [
    "## Step 1: Data Setup\n",
    "Here's the data for the problem. Take a moment to understand what each dictionary represents:"
   ]
  },
  {
   "cell_type": "code",
   "execution_count": null,
   "metadata": {},
   "outputs": [],
   "source": [
    "# Inbound transportation costs (Factory to Cross-dock)\n",
    "inbound_dict = {'Premium':{'Factory 1':{'Crossdock 1':28, 'Crossdock 2':45} ,\n",
    "                'Factory 2':{'Crossdock 1':25, 'Crossdock 2':60},\n",
    "                'Factory 3':{'Crossdock 1':32, 'Crossdock 2':15} ,\n",
    "                'Factory 4':{'Crossdock 1':65, 'Crossdock 2':14} ,\n",
    "                'Factory 5':{'Crossdock 1':58, 'Crossdock 2':62}},\n",
    "                'Casual':{'Factory 1':{'Crossdock 1':30, 'Crossdock 2':50} ,\n",
    "                'Factory 2':{'Crossdock 1':22, 'Crossdock 2':68},\n",
    "                'Factory 3':{'Crossdock 1':35, 'Crossdock 2':18} ,\n",
    "                'Factory 4':{'Crossdock 1':70, 'Crossdock 2':15} ,\n",
    "                'Factory 5':{'Crossdock 1':15, 'Crossdock 2':16}}\n",
    "}\n",
    "\n",
    "# Outbound transportation costs (Cross-dock to DC)\n",
    "outbound_dict = {'Premium':{'Crossdock 1':{'DC1':15, 'DC2':22, 'DC3':25, 'DC4':38, 'DC5':40} ,\n",
    "                'Crossdock 2':{'DC1':60, 'DC2':25, 'DC3':20, 'DC4':15, 'DC5':18} } ,\n",
    "                'Casual':{'Crossdock 1':{'DC1':12, 'DC2':25, 'DC3':28, 'DC4':42, 'DC5':44} ,\n",
    "                'Crossdock 2':{'DC1':65, 'DC2':28, 'DC3':22, 'DC4':16, 'DC5':20} } ,\n",
    "}\n",
    "\n",
    "# Demand at each DC\n",
    "demand_dict = {'Premium':{'DC1':120, 'DC2':50, 'DC3':65, 'DC4':90, 'DC5':10} ,\n",
    "                'Casual':{'DC1':20, 'DC2':40, 'DC3':45, 'DC4':95, 'DC5':165}\n",
    "}\n",
    "\n",
    "# Factory capacity constraints\n",
    "capacity_dict = {'Premium':{'Factory 1':140, 'Factory 2': 280, 'Factory 3':85, 'Factory 4':130, 'Factory 5':200} ,\n",
    "            'Casual':{'Factory 1':180, 'Factory 2': 280, 'Factory 3':75, 'Factory 4':40, 'Factory 5':200} ,\n",
    "            'Combined':{'Factory 1':180, 'Factory 2': 280, 'Factory 3':95, 'Factory 4':140, 'Factory 5':200}\n",
    "}"
   ]
  },
  {
   "cell_type": "markdown",
   "metadata": {},
   "source": [
    "## Step 2: Create Location Lists\n",
    "Create lists of all locations and product types:"
   ]
  },
  {
   "cell_type": "code",
   "execution_count": null,
   "metadata": {},
   "outputs": [],
   "source": [
    "# Your code here\n",
    "# Create lists for: factories, cross-docks (CDs), distribution centers (DCs), and styles"
   ]
  },
  {
   "cell_type": "markdown",
   "metadata": {},
   "source": [
    "## Step 3: Create the Optimization Model\n",
    "Initialize a PuLP minimization problem:"
   ]
  },
  {
   "cell_type": "code",
   "execution_count": null,
   "metadata": {},
   "outputs": [],
   "source": [
    "# Your code here\n",
    "# Create a PuLP minimization problem"
   ]
  },
  {
   "cell_type": "markdown",
   "metadata": {},
   "source": [
    "## Step 4: Define Decision Variables\n",
    "We need two sets of decision variables:\n",
    "1. Flow from factories to cross-docks\n",
    "2. Flow from cross-docks to DCs"
   ]
  },
  {
   "cell_type": "code",
   "execution_count": null,
   "metadata": {},
   "outputs": [],
   "source": [
    "# Your code here\n",
    "# Create decision variables for:\n",
    "# 1. factory_to_cd\n",
    "# 2. cd_to_dc"
   ]
  },
  {
   "cell_type": "markdown",
   "metadata": {},
   "source": [
    "## Step 5: Set Up Objective Function\n",
    "The objective is to minimize total transportation costs:"
   ]
  },
  {
   "cell_type": "code",
   "execution_count": null,
   "metadata": {},
   "outputs": [],
   "source": [
    "# Your code here\n",
    "# Create objective function that minimizes:\n",
    "# 1. Cost of transport from factories to cross-docks\n",
    "# 2. Cost of transport from cross-docks to DCs"
   ]
  },
  {
   "cell_type": "markdown",
   "metadata": {},
   "source": [
    "## Step 6: Add Constraints\n",
    "We need three types of constraints:\n",
    "1. Flow balance at cross-docks\n",
    "2. Meet demand at DCs\n",
    "3. Respect factory capacity limits"
   ]
  },
  {
   "cell_type": "code",
   "execution_count": null,
   "metadata": {},
   "outputs": [],
   "source": [
    "# Your code here\n",
    "# Add all necessary constraints"
   ]
  },
  {
   "cell_type": "markdown",
   "metadata": {},
   "source": [
    "## Step 7: Solve the Model\n",
    "Now solve the optimization problem:"
   ]
  },
  {
   "cell_type": "code",
   "execution_count": null,
   "metadata": {},
   "outputs": [],
   "source": [
    "# Your code here\n",
    "# Solve the model and print the status and objective value"
   ]
  },
  {
   "cell_type": "markdown",
   "metadata": {},
   "source": [
    "## Step 8: Display Results\n",
    "Create a clear display of the optimal flows:"
   ]
  },
  {
   "cell_type": "code",
   "execution_count": null,
   "metadata": {},
   "outputs": [],
   "source": [
    "# Your code here\n",
    "# Display:\n",
    "# 1. Factory to cross-dock flows\n",
    "# 2. Cross-dock to DC flows"
   ]
  },
  {
   "cell_type": "markdown",
   "metadata": {},
   "source": [
    "## Analysis Questions\n",
    "\n",
    "1. Which factories are operating at full capacity?\n",
    "2. Are there any cross-docks that handle significantly more volume than others?\n",
    "3. How does the distribution pattern differ between Premium and Casual products?\n",
    "4. What is the average transportation cost per unit for each product line?\n",
    "5. If you had to add one more cross-dock facility, where would you locate it based on the current flows?\n",
    "\n",
    "## Extension Challenges\n",
    "\n",
    "1. Add minimum volume requirements for cross-docks to justify their operation\n",
    "2. Include fixed costs for using each facility\n",
    "3. Add capacity constraints to the cross-dock facilities\n",
    "4. Consider adding seasonal demand variations\n",
    "5. Include sustainability metrics (e.g., CO2 emissions) in the optimization"
   ]
  }
 ],
 "metadata": {
  "kernelspec": {
   "display_name": "Python 3",
   "language": "python",
   "name": "python3"
  },
  "language_info": {
   "codemirror_mode": {
    "name": "ipython",
    "version": 3
   },
   "file_extension": ".py",
   "mimetype": "text/x-python",
   "name": "python",
   "nbconvert_exporter": "python",
   "pygments_lexer": "ipython3",
   "version": "3.8.0"
  }
 },
 "nbformat": 4,
 "nbformat_minor": 4
}
