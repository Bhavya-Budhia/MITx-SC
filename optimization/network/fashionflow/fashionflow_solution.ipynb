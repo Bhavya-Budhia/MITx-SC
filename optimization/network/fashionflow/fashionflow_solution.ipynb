{
 "cells": [
  {
   "cell_type": "markdown",
   "metadata": {},
   "source": [
    "# FashionFlow Network Design\n",
    "\n",
    "FashionFlow is a clothing retailer that needs to optimize its distribution network. They have:\n",
    "- 5 manufacturing facilities\n",
    "- 2 cross-dock facilities\n",
    "- 5 regional distribution centers\n",
    "- 2 product lines: Premium and Casual\n",
    "\n",
    "The goal is to minimize total transportation costs while meeting demand and respecting capacity constraints."
   ]
  },
  {
   "cell_type": "code",
   "execution_count": null,
   "metadata": {},
   "outputs": [],
   "source": [
    "import pandas as pd\n",
    "import pulp"
   ]
  },
  {
   "cell_type": "code",
   "execution_count": null,
   "metadata": {},
   "outputs": [],
   "source": [
    "# Inbound transportation costs (Factory to Cross-dock)\n",
    "inbound_dict = {'Premium':{'Factory 1':{'Crossdock 1':28, 'Crossdock 2':45} ,\n",
    "                'Factory 2':{'Crossdock 1':25, 'Crossdock 2':60},\n",
    "                'Factory 3':{'Crossdock 1':32, 'Crossdock 2':15} ,\n",
    "                'Factory 4':{'Crossdock 1':65, 'Crossdock 2':14} ,\n",
    "                'Factory 5':{'Crossdock 1':58, 'Crossdock 2':62}},\n",
    "                'Casual':{'Factory 1':{'Crossdock 1':30, 'Crossdock 2':50} ,\n",
    "                'Factory 2':{'Crossdock 1':22, 'Crossdock 2':68},\n",
    "                'Factory 3':{'Crossdock 1':35, 'Crossdock 2':18} ,\n",
    "                'Factory 4':{'Crossdock 1':70, 'Crossdock 2':15} ,\n",
    "                'Factory 5':{'Crossdock 1':15, 'Crossdock 2':16}}\n",
    "}"
   ]
  },
  {
   "cell_type": "code",
   "execution_count": null,
   "metadata": {},
   "outputs": [],
   "source": [
    "# Outbound transportation costs (Cross-dock to DC)\n",
    "outbound_dict = {'Premium':{'Crossdock 1':{'DC1':15, 'DC2':22, 'DC3':25, 'DC4':38, 'DC5':40} ,\n",
    "                'Crossdock 2':{'DC1':60, 'DC2':25, 'DC3':20, 'DC4':15, 'DC5':18} } ,\n",
    "                'Casual':{'Crossdock 1':{'DC1':12, 'DC2':25, 'DC3':28, 'DC4':42, 'DC5':44} ,\n",
    "                'Crossdock 2':{'DC1':65, 'DC2':28, 'DC3':22, 'DC4':16, 'DC5':20} } ,\n",
    "}"
   ]
  },
  {
   "cell_type": "code",
   "execution_count": null,
   "metadata": {},
   "outputs": [],
   "source": [
    "# Demand at each DC\n",
    "demand_dict = {'Premium':{'DC1':120, 'DC2':50, 'DC3':65, 'DC4':90, 'DC5':10} ,\n",
    "                'Casual':{'DC1':20, 'DC2':40, 'DC3':45, 'DC4':95, 'DC5':165}\n",
    "}"
   ]
  },
  {
   "cell_type": "code",
   "execution_count": null,
   "metadata": {},
   "outputs": [],
   "source": [
    "# Factory capacity constraints\n",
    "capacity_dict = {'Premium':{'Factory 1':140, 'Factory 2': 280, 'Factory 3':85, 'Factory 4':130, 'Factory 5':200} ,\n",
    "            'Casual':{'Factory 1':180, 'Factory 2': 280, 'Factory 3':75, 'Factory 4':40, 'Factory 5':200} ,\n",
    "            'Combined':{'Factory 1':180, 'Factory 2': 280, 'Factory 3':95, 'Factory 4':140, 'Factory 5':200}\n",
    "}"
   ]
  },
  {
   "cell_type": "code",
   "execution_count": null,
   "metadata": {},
   "outputs": [],
   "source": [
    "# Create lists of locations and product types\n",
    "factories = ['Factory 1', 'Factory 2', 'Factory 3', 'Factory 4', 'Factory 5']\n",
    "CDs = ['Crossdock 1', 'Crossdock 2']\n",
    "DCs = ['DC1', 'DC2', 'DC3', 'DC4', 'DC5']\n",
    "styles = ['Premium', 'Casual']"
   ]
  },
  {
   "cell_type": "code",
   "execution_count": null,
   "metadata": {},
   "outputs": [],
   "source": [
    "# Create optimization model\n",
    "model = pulp.LpProblem(\"FashionFlow_Network\", pulp.LpMinimize)\n",
    "\n",
    "# Decision variables\n",
    "# Factory to Cross-dock flow\n",
    "factory_to_cd = pulp.LpVariable.dicts(\"factory_to_cd\",\n",
    "                                      ((s, f, cd) for s in styles\n",
    "                                       for f in factories\n",
    "                                       for cd in CDs),\n",
    "                                      lowBound=0)\n",
    "\n",
    "# Cross-dock to DC flow\n",
    "cd_to_dc = pulp.LpVariable.dicts(\"cd_to_dc\",\n",
    "                                 ((s, cd, dc) for s in styles\n",
    "                                  for cd in CDs\n",
    "                                  for dc in DCs),\n",
    "                                 lowBound=0)"
   ]
  },
  {
   "cell_type": "code",
   "execution_count": null,
   "metadata": {},
   "outputs": [],
   "source": [
    "# Objective function\n",
    "model += (\n",
    "    pulp.lpSum([factory_to_cd[s,f,cd] * inbound_dict[s][f][cd]\n",
    "                for s in styles\n",
    "                for f in factories\n",
    "                for cd in CDs]) +\n",
    "    pulp.lpSum([cd_to_dc[s,cd,dc] * outbound_dict[s][cd][dc]\n",
    "                for s in styles\n",
    "                for cd in CDs\n",
    "                for dc in DCs])\n",
    ")"
   ]
  },
  {
   "cell_type": "code",
   "execution_count": null,
   "metadata": {},
   "outputs": [],
   "source": [
    "# Constraints\n",
    "\n",
    "# 1. Flow balance at cross-docks\n",
    "for s in styles:\n",
    "    for cd in CDs:\n",
    "        model += pulp.lpSum([factory_to_cd[s,f,cd] for f in factories]) == \\\n",
    "                pulp.lpSum([cd_to_dc[s,cd,dc] for dc in DCs])\n",
    "\n",
    "# 2. Meet demand at DCs\n",
    "for s in styles:\n",
    "    for dc in DCs:\n",
    "        model += pulp.lpSum([cd_to_dc[s,cd,dc] for cd in CDs]) == demand_dict[s][dc]\n",
    "\n",
    "# 3. Factory capacity constraints\n",
    "for f in factories:\n",
    "    model += pulp.lpSum([factory_to_cd[s,f,cd] \n",
    "                         for s in styles\n",
    "                         for cd in CDs]) <= capacity_dict['Combined'][f]"
   ]
  },
  {
   "cell_type": "code",
   "execution_count": null,
   "metadata": {},
   "outputs": [],
   "source": [
    "# Solve the model\n",
    "model.solve()\n",
    "print(f\"Status: {pulp.LpStatus[model.status]}\")\n",
    "print(f\"Total Cost: ${pulp.value(model.objective):,.2f}\")"
   ]
  },
  {
   "cell_type": "code",
   "execution_count": null,
   "metadata": {},
   "outputs": [],
   "source": [
    "# Display results\n",
    "print(\"\\nFactory to Cross-dock Flows:\")\n",
    "for s in styles:\n",
    "    print(f\"\\n{s}:\")\n",
    "    for f in factories:\n",
    "        for cd in CDs:\n",
    "            if pulp.value(factory_to_cd[s,f,cd]) > 0:\n",
    "                print(f\"{f} -> {cd}: {pulp.value(factory_to_cd[s,f,cd]):,.0f} units\")\n",
    "\n",
    "print(\"\\nCross-dock to DC Flows:\")\n",
    "for s in styles:\n",
    "    print(f\"\\n{s}:\")\n",
    "    for cd in CDs:\n",
    "        for dc in DCs:\n",
    "            if pulp.value(cd_to_dc[s,cd,dc]) > 0:\n",
    "                print(f\"{cd} -> {dc}: {pulp.value(cd_to_dc[s,cd,dc]):,.0f} units\")"
   ]
  }
 ],
 "metadata": {
  "kernelspec": {
   "display_name": "Python 3",
   "language": "python",
   "name": "python3"
  },
  "language_info": {
   "codemirror_mode": {
    "name": "ipython",
    "version": 3
   },
   "file_extension": ".py",
   "mimetype": "text/x-python",
   "name": "python",
   "nbconvert_exporter": "python",
   "pygments_lexer": "ipython3",
   "version": "3.8.0"
  }
 },
 "nbformat": 4,
 "nbformat_minor": 4
}
