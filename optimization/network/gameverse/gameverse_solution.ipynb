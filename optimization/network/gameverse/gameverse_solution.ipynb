{
 "cells": [
  {
   "cell_type": "markdown",
   "metadata": {},
   "source": [
    "# GameVerse Network Design\n",
    "\n",
    "GameVerse is a major gaming console manufacturer that needs to optimize its distribution network for the holiday season. They have:\n",
    "- 5 production facilities\n",
    "- 2 consolidation centers\n",
    "- 5 regional warehouses\n",
    "- 2 product lines: Pro Console and Standard Console\n",
    "\n",
    "The goal is to minimize total transportation costs while meeting demand and respecting capacity constraints."
   ]
  },
  {
   "cell_type": "code",
   "execution_count": 1,
   "metadata": {},
   "outputs": [],
   "source": [
    "import pandas as pd\n",
    "import pulp"
   ]
  },
  {
   "cell_type": "code",
   "execution_count": 2,
   "metadata": {},
   "outputs": [],
   "source": [
    "# Inbound transportation costs (Factory to Consolidation)\n",
    "inbound_dict = {'Pro':{'Factory 1':{'Consolidation 1':35, 'Consolidation 2':55} ,\n",
    "                'Factory 2':{'Consolidation 1':28, 'Consolidation 2':72},\n",
    "                'Factory 3':{'Consolidation 1':42, 'Consolidation 2':18} ,\n",
    "                'Factory 4':{'Consolidation 1':75, 'Consolidation 2':16} ,\n",
    "                'Factory 5':{'Consolidation 1':62, 'Consolidation 2':68}},\n",
    "                'Standard':{'Factory 1':{'Consolidation 1':32, 'Consolidation 2':58} ,\n",
    "                'Factory 2':{'Consolidation 1':25, 'Consolidation 2':75},\n",
    "                'Factory 3':{'Consolidation 1':45, 'Consolidation 2':20} ,\n",
    "                'Factory 4':{'Consolidation 1':78, 'Consolidation 2':18} ,\n",
    "                'Factory 5':{'Consolidation 1':18, 'Consolidation 2':22}}\n",
    "}"
   ]
  },
  {
   "cell_type": "code",
   "execution_count": 3,
   "metadata": {},
   "outputs": [],
   "source": [
    "# Outbound transportation costs (Consolidation to Warehouse)\n",
    "outbound_dict = {'Pro':{'Consolidation 1':{'Warehouse 1':18, 'Warehouse 2':28, 'Warehouse 3':32, 'Warehouse 4':45, 'Warehouse 5':48} ,\n",
    "                'Consolidation 2':{'Warehouse 1':72, 'Warehouse 2':28, 'Warehouse 3':25, 'Warehouse 4':18, 'Warehouse 5':22} } ,\n",
    "                'Standard':{'Consolidation 1':{'Warehouse 1':15, 'Warehouse 2':32, 'Warehouse 3':35, 'Warehouse 4':48, 'Warehouse 5':52} ,\n",
    "                'Consolidation 2':{'Warehouse 1':78, 'Warehouse 2':32, 'Warehouse 3':28, 'Warehouse 4':20, 'Warehouse 5':25} } ,\n",
    "}"
   ]
  },
  {
   "cell_type": "code",
   "execution_count": 4,
   "metadata": {},
   "outputs": [],
   "source": [
    "# Holiday season demand at each warehouse\n",
    "demand_dict = {'Pro':{'Warehouse 1':150, 'Warehouse 2':60, 'Warehouse 3':80, 'Warehouse 4':110, 'Warehouse 5':15} ,\n",
    "                'Standard':{'Warehouse 1':25, 'Warehouse 2':55, 'Warehouse 3':50, 'Warehouse 4':120, 'Warehouse 5':200}\n",
    "}"
   ]
  },
  {
   "cell_type": "code",
   "execution_count": 5,
   "metadata": {},
   "outputs": [],
   "source": [
    "# Factory production capacity\n",
    "capacity_dict = {'Pro':{'Factory 1':160, 'Factory 2': 300, 'Factory 3':95, 'Factory 4':150, 'Factory 5':220} ,\n",
    "            'Standard':{'Factory 1':200, 'Factory 2': 300, 'Factory 3':80, 'Factory 4':50, 'Factory 5':220} ,\n",
    "            'Combined':{'Factory 1':200, 'Factory 2': 300, 'Factory 3':110, 'Factory 4':160, 'Factory 5':220}\n",
    "}"
   ]
  },
  {
   "cell_type": "code",
   "execution_count": 6,
   "metadata": {},
   "outputs": [],
   "source": [
    "# Create lists of locations and product types\n",
    "factories = ['Factory 1', 'Factory 2', 'Factory 3', 'Factory 4', 'Factory 5']\n",
    "consolidations = ['Consolidation 1', 'Consolidation 2']\n",
    "warehouses = ['Warehouse 1', 'Warehouse 2', 'Warehouse 3', 'Warehouse 4', 'Warehouse 5']\n",
    "consoles = ['Pro', 'Standard']"
   ]
  },
  {
   "cell_type": "code",
   "execution_count": 7,
   "metadata": {},
   "outputs": [],
   "source": [
    "# Create optimization model\n",
    "model = pulp.LpProblem(\"GameVerse_Network\", pulp.LpMinimize)\n",
    "\n",
    "# Decision variables\n",
    "# Factory to Consolidation flow\n",
    "factory_to_cons = pulp.LpVariable.dicts(\"factory_to_cons\",\n",
    "                                      ((c, f, cc) for c in consoles\n",
    "                                       for f in factories\n",
    "                                       for cc in consolidations),\n",
    "                                      lowBound=0)\n",
    "\n",
    "# Consolidation to Warehouse flow\n",
    "cons_to_warehouse = pulp.LpVariable.dicts(\"cons_to_warehouse\",\n",
    "                                 ((c, cc, w) for c in consoles\n",
    "                                  for cc in consolidations\n",
    "                                  for w in warehouses),\n",
    "                                 lowBound=0)"
   ]
  },
  {
   "cell_type": "code",
   "execution_count": 8,
   "metadata": {},
   "outputs": [],
   "source": [
    "# Objective function\n",
    "model += (\n",
    "    pulp.lpSum([factory_to_cons[c,f,cc] * inbound_dict[c][f][cc]\n",
    "                for c in consoles\n",
    "                for f in factories\n",
    "                for cc in consolidations]) +\n",
    "    pulp.lpSum([cons_to_warehouse[c,cc,w] * outbound_dict[c][cc][w]\n",
    "                for c in consoles\n",
    "                for cc in consolidations\n",
    "                for w in warehouses])\n",
    ")"
   ]
  },
  {
   "cell_type": "code",
   "execution_count": 9,
   "metadata": {},
   "outputs": [],
   "source": [
    "# Constraints\n",
    "\n",
    "# 1. Flow balance at consolidation centers\n",
    "for c in consoles:\n",
    "    for cc in consolidations:\n",
    "        model += pulp.lpSum([factory_to_cons[c,f,cc] for f in factories]) == \\\n",
    "                pulp.lpSum([cons_to_warehouse[c,cc,w] for w in warehouses])\n",
    "\n",
    "# 2. Meet demand at warehouses\n",
    "for c in consoles:\n",
    "    for w in warehouses:\n",
    "        model += pulp.lpSum([cons_to_warehouse[c,cc,w] for cc in consolidations]) == demand_dict[c][w]\n",
    "\n",
    "# 3. Factory capacity constraints\n",
    "for f in factories:\n",
    "    model += pulp.lpSum([factory_to_cons[c,f,cc] \n",
    "                         for c in consoles\n",
    "                         for cc in consolidations]) <= capacity_dict['Combined'][f]"
   ]
  },
  {
   "cell_type": "code",
   "execution_count": 10,
   "metadata": {},
   "outputs": [
    {
     "name": "stdout",
     "output_type": "stream",
     "text": [
      "Status: Optimal\n",
      "Total Cost: $40,435.00\n"
     ]
    }
   ],
   "source": [
    "# Solve the model\n",
    "model.solve()\n",
    "print(f\"Status: {pulp.LpStatus[model.status]}\")\n",
    "print(f\"Total Cost: ${pulp.value(model.objective):,.2f}\")"
   ]
  },
  {
   "cell_type": "code",
   "execution_count": 11,
   "metadata": {},
   "outputs": [
    {
     "name": "stdout",
     "output_type": "stream",
     "text": [
      "\n",
      "Factory to Consolidation Flows:\n",
      "\n",
      "Pro:\n",
      "Factory 1 -> Consolidation 1: 75 units\n",
      "Factory 2 -> Consolidation 1: 170 units\n",
      "Factory 3 -> Consolidation 2: 10 units\n",
      "Factory 4 -> Consolidation 2: 160 units\n",
      "\n",
      "Standard:\n",
      "Factory 2 -> Consolidation 1: 130 units\n",
      "Factory 3 -> Consolidation 2: 100 units\n",
      "Factory 5 -> Consolidation 2: 220 units\n",
      "\n",
      "Consolidation to Warehouse Flows:\n",
      "\n",
      "Pro:\n",
      "Consolidation 1 -> Warehouse 1: 150 units\n",
      "Consolidation 1 -> Warehouse 2: 60 units\n",
      "Consolidation 1 -> Warehouse 3: 35 units\n",
      "Consolidation 2 -> Warehouse 3: 45 units\n",
      "Consolidation 2 -> Warehouse 4: 110 units\n",
      "Consolidation 2 -> Warehouse 5: 15 units\n",
      "\n",
      "Standard:\n",
      "Consolidation 1 -> Warehouse 1: 25 units\n",
      "Consolidation 1 -> Warehouse 2: 55 units\n",
      "Consolidation 1 -> Warehouse 3: 50 units\n",
      "Consolidation 2 -> Warehouse 4: 120 units\n",
      "Consolidation 2 -> Warehouse 5: 200 units\n"
     ]
    }
   ],
   "source": [
    "# Display results\n",
    "print(\"\\nFactory to Consolidation Flows:\")\n",
    "for c in consoles:\n",
    "    print(f\"\\n{c}:\")\n",
    "    for f in factories:\n",
    "        for cc in consolidations:\n",
    "            if pulp.value(factory_to_cons[c,f,cc]) > 0:\n",
    "                print(f\"{f} -> {cc}: {pulp.value(factory_to_cons[c,f,cc]):,.0f} units\")\n",
    "\n",
    "print(\"\\nConsolidation to Warehouse Flows:\")\n",
    "for c in consoles:\n",
    "    print(f\"\\n{c}:\")\n",
    "    for cc in consolidations:\n",
    "        for w in warehouses:\n",
    "            if pulp.value(cons_to_warehouse[c,cc,w]) > 0:\n",
    "                print(f\"{cc} -> {w}: {pulp.value(cons_to_warehouse[c,cc,w]):,.0f} units\")"
   ]
  }
 ],
 "metadata": {
  "kernelspec": {
   "display_name": "base",
   "language": "python",
   "name": "python3"
  },
  "language_info": {
   "codemirror_mode": {
    "name": "ipython",
    "version": 3
   },
   "file_extension": ".py",
   "mimetype": "text/x-python",
   "name": "python",
   "nbconvert_exporter": "python",
   "pygments_lexer": "ipython3",
   "version": "3.12.4"
  }
 },
 "nbformat": 4,
 "nbformat_minor": 4
}
