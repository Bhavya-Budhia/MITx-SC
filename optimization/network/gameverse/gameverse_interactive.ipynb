{
 "cells": [
  {
   "cell_type": "markdown",
   "metadata": {},
   "source": [
    "# GameVerse Network Design Challenge\n",
    "\n",
    "## Background\n",
    "GameVerse, a leading gaming console manufacturer, is preparing for the holiday season rush. They need your help optimizing their distribution network. They operate:\n",
    "- 5 production facilities worldwide\n",
    "- 2 consolidation centers for efficient processing\n",
    "- 5 regional warehouses serving different market areas\n",
    "\n",
    "They produce two console models:\n",
    "- Pro Console: High-end gaming system with premium features\n",
    "- Standard Console: Entry-level system with broad market appeal\n",
    "\n",
    "## Challenge\n",
    "Help GameVerse minimize their total transportation costs while:\n",
    "1. Meeting holiday season demand at each warehouse\n",
    "2. Respecting factory production limits\n",
    "3. Maintaining flow balance at consolidation centers\n",
    "\n",
    "## Data\n",
    "You have access to:\n",
    "- Transportation costs from factories to consolidation centers\n",
    "- Transportation costs from consolidation centers to warehouses\n",
    "- Holiday season demand forecasts\n",
    "- Factory production capacities\n",
    "\n",
    "## Your Task\n",
    "1. Import required libraries\n",
    "2. Create the optimization model\n",
    "3. Define decision variables\n",
    "4. Set up the objective function\n",
    "5. Add necessary constraints\n",
    "6. Solve the model and analyze results\n",
    "\n",
    "## Getting Started\n",
    "First, import the required libraries:"
   ]
  },
  {
   "cell_type": "code",
   "execution_count": null,
   "metadata": {},
   "outputs": [],
   "source": [
    "# Import required libraries\n",
    "import pandas as pd\n",
    "import pulp"
   ]
  },
  {
   "cell_type": "markdown",
   "metadata": {},
   "source": [
    "## Step 1: Data Setup\n",
    "Here's the data for the problem. Take a moment to understand what each dictionary represents:"
   ]
  },
  {
   "cell_type": "code",
   "execution_count": null,
   "metadata": {},
   "outputs": [],
   "source": [
    "# Inbound transportation costs (Factory to Consolidation)\n",
    "inbound_dict = {'Pro':{'Factory 1':{'Consolidation 1':35, 'Consolidation 2':55} ,\n",
    "                'Factory 2':{'Consolidation 1':28, 'Consolidation 2':72},\n",
    "                'Factory 3':{'Consolidation 1':42, 'Consolidation 2':18} ,\n",
    "                'Factory 4':{'Consolidation 1':75, 'Consolidation 2':16} ,\n",
    "                'Factory 5':{'Consolidation 1':62, 'Consolidation 2':68}},\n",
    "                'Standard':{'Factory 1':{'Consolidation 1':32, 'Consolidation 2':58} ,\n",
    "                'Factory 2':{'Consolidation 1':25, 'Consolidation 2':75},\n",
    "                'Factory 3':{'Consolidation 1':45, 'Consolidation 2':20} ,\n",
    "                'Factory 4':{'Consolidation 1':78, 'Consolidation 2':18} ,\n",
    "                'Factory 5':{'Consolidation 1':18, 'Consolidation 2':22}}\n",
    "}\n",
    "\n",
    "# Outbound transportation costs (Consolidation to Warehouse)\n",
    "outbound_dict = {'Pro':{'Consolidation 1':{'Warehouse 1':18, 'Warehouse 2':28, 'Warehouse 3':32, 'Warehouse 4':45, 'Warehouse 5':48} ,\n",
    "                'Consolidation 2':{'Warehouse 1':72, 'Warehouse 2':28, 'Warehouse 3':25, 'Warehouse 4':18, 'Warehouse 5':22} } ,\n",
    "                'Standard':{'Consolidation 1':{'Warehouse 1':15, 'Warehouse 2':32, 'Warehouse 3':35, 'Warehouse 4':48, 'Warehouse 5':52} ,\n",
    "                'Consolidation 2':{'Warehouse 1':78, 'Warehouse 2':32, 'Warehouse 3':28, 'Warehouse 4':20, 'Warehouse 5':25} } ,\n",
    "}\n",
    "\n",
    "# Holiday season demand at each warehouse\n",
    "demand_dict = {'Pro':{'Warehouse 1':150, 'Warehouse 2':60, 'Warehouse 3':80, 'Warehouse 4':110, 'Warehouse 5':15} ,\n",
    "                'Standard':{'Warehouse 1':25, 'Warehouse 2':55, 'Warehouse 3':50, 'Warehouse 4':120, 'Warehouse 5':200}\n",
    "}\n",
    "\n",
    "# Factory production capacity\n",
    "capacity_dict = {'Pro':{'Factory 1':160, 'Factory 2': 300, 'Factory 3':95, 'Factory 4':150, 'Factory 5':220} ,\n",
    "            'Standard':{'Factory 1':200, 'Factory 2': 300, 'Factory 3':80, 'Factory 4':50, 'Factory 5':220} ,\n",
    "            'Combined':{'Factory 1':200, 'Factory 2': 300, 'Factory 3':110, 'Factory 4':160, 'Factory 5':220}\n",
    "}"
   ]
  },
  {
   "cell_type": "markdown",
   "metadata": {},
   "source": [
    "## Step 2: Create Location Lists\n",
    "Create lists of all locations and product types:"
   ]
  },
  {
   "cell_type": "code",
   "execution_count": null,
   "metadata": {},
   "outputs": [],
   "source": [
    "# Your code here\n",
    "# Create lists for: factories, consolidation centers, warehouses, and console types"
   ]
  },
  {
   "cell_type": "markdown",
   "metadata": {},
   "source": [
    "## Step 3: Create the Optimization Model\n",
    "Initialize a PuLP minimization problem:"
   ]
  },
  {
   "cell_type": "code",
   "execution_count": null,
   "metadata": {},
   "outputs": [],
   "source": [
    "# Your code here\n",
    "# Create a PuLP minimization problem"
   ]
  },
  {
   "cell_type": "markdown",
   "metadata": {},
   "source": [
    "## Step 4: Define Decision Variables\n",
    "We need two sets of decision variables:\n",
    "1. Flow from factories to consolidation centers\n",
    "2. Flow from consolidation centers to warehouses"
   ]
  },
  {
   "cell_type": "code",
   "execution_count": null,
   "metadata": {},
   "outputs": [],
   "source": [
    "# Your code here\n",
    "# Create decision variables for:\n",
    "# 1. factory_to_cons\n",
    "# 2. cons_to_warehouse"
   ]
  },
  {
   "cell_type": "markdown",
   "metadata": {},
   "source": [
    "## Step 5: Set Up Objective Function\n",
    "The objective is to minimize total transportation costs:"
   ]
  },
  {
   "cell_type": "code",
   "execution_count": null,
   "metadata": {},
   "outputs": [],
   "source": [
    "# Your code here\n",
    "# Create objective function that minimizes:\n",
    "# 1. Cost of transport from factories to consolidation centers\n",
    "# 2. Cost of transport from consolidation centers to warehouses"
   ]
  },
  {
   "cell_type": "markdown",
   "metadata": {},
   "source": [
    "## Step 6: Add Constraints\n",
    "We need three types of constraints:\n",
    "1. Flow balance at consolidation centers\n",
    "2. Meet demand at warehouses\n",
    "3. Respect factory capacity limits"
   ]
  },
  {
   "cell_type": "code",
   "execution_count": null,
   "metadata": {},
   "outputs": [],
   "source": [
    "# Your code here\n",
    "# Add all necessary constraints"
   ]
  },
  {
   "cell_type": "markdown",
   "metadata": {},
   "source": [
    "## Step 7: Solve the Model\n",
    "Now solve the optimization problem:"
   ]
  },
  {
   "cell_type": "code",
   "execution_count": null,
   "metadata": {},
   "outputs": [],
   "source": [
    "# Your code here\n",
    "# Solve the model and print the status and objective value"
   ]
  },
  {
   "cell_type": "markdown",
   "metadata": {},
   "source": [
    "## Step 8: Display Results\n",
    "Create a clear display of the optimal flows:"
   ]
  },
  {
   "cell_type": "code",
   "execution_count": null,
   "metadata": {},
   "outputs": [],
   "source": [
    "# Your code here\n",
    "# Display:\n",
    "# 1. Factory to consolidation center flows\n",
    "# 2. Consolidation center to warehouse flows"
   ]
  },
  {
   "cell_type": "markdown",
   "metadata": {},
   "source": [
    "## Analysis Questions\n",
    "\n",
    "1. Which factories are operating at full capacity?\n",
    "2. Are there any consolidation centers that handle significantly more volume than others?\n",
    "3. How does the distribution pattern differ between Pro and Standard consoles?\n",
    "4. What is the average transportation cost per console for each product line?\n",
    "5. Which warehouses have the highest inbound transportation costs?\n",
    "\n",
    "## Extension Challenges\n",
    "\n",
    "1. Add minimum throughput requirements for consolidation centers\n",
    "2. Include fixed costs for operating each facility\n",
    "3. Add capacity constraints to the consolidation centers\n",
    "4. Consider adding a third product line (e.g., Limited Edition Console)\n",
    "5. Include reliability metrics in the optimization (e.g., on-time delivery probability)"
   ]
  }
 ],
 "metadata": {
  "kernelspec": {
   "display_name": "Python 3",
   "language": "python",
   "name": "python3"
  },
  "language_info": {
   "codemirror_mode": {
    "name": "ipython",
    "version": 3
   },
   "file_extension": ".py",
   "mimetype": "text/x-python",
   "name": "python",
   "nbconvert_exporter": "python",
   "pygments_lexer": "ipython3",
   "version": "3.8.0"
  }
 },
 "nbformat": 4,
 "nbformat_minor": 4
}
