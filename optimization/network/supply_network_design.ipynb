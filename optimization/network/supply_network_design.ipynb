{
 "cells": [
  {
   "cell_type": "markdown",
   "metadata": {},
   "source": [
    "# BooBoo Magicians Optimization Problem\n",
    "\n",
    "## Problem Statement\n",
    "BooBoo Magicians needs to optimize their party package offerings given resource constraints to maximize profit.\n",
    "\n",
    "### Given Information:\n",
    "#### Packages Available:\n",
    "1. Standard Package\n",
    "2. Joyful Package\n",
    "3. Fabulous Package\n",
    "\n",
    "#### Resource Requirements and Financials:\n",
    "| Resource/Financial | Standard | Joyful | Fabulous |\n",
    "|-------------------|----------|---------|------------|\n",
    "| Labor (hours)     | 3        | 5       | 8         |\n",
    "| Balloons (bags)   | 2        | 5       | 8         |\n",
    "| Cost              | $2K      | $3K     | $4K       |\n",
    "| Price             | $3K      | $5K     | $7K       |\n",
    "| Profit            | $1K      | $2K     | $3K       |\n",
    "\n",
    "#### Resource Constraints (January):\n",
    "- Available balloon bags: 325\n",
    "- Available labor hours: 400\n",
    "\n",
    "#### Additional Information:\n",
    "- All packages produced will be sold (guaranteed demand)\n",
    "- Goal: Maximize profit\n",
    "\n",
    "---"
   ]
  },
  {
   "cell_type": "markdown",
   "metadata": {},
   "source": [
    "## Step 1: Setting Up the Linear Programming Problem\n",
    "\n",
    "Let's define our variables:\n",
    "- Let x₁ = number of Standard packages\n",
    "- Let x₂ = number of Joyful packages\n",
    "- Let x₃ = number of Fabulous packages\n",
    "\n",
    "### Objective Function:\n",
    "Maximize Z = 1x₁ + 2x₂ + 3x₃ (profits in thousands of dollars)\n",
    "\n",
    "### Constraints:\n",
    "1. Labor constraint: 3x₁ + 5x₂ + 8x₃ ≤ 400\n",
    "2. Balloon constraint: 2x₁ + 5x₂ + 8x₃ ≤ 325\n",
    "3. Non-negativity: x₁, x₂, x₃ ≥ 0\n",
    "\n",
    "We'll use Python's `scipy.optimize` to solve this linear programming problem."
   ]
  },
  {
   "cell_type": "code",
   "execution_count": null,
   "metadata": {},
   "outputs": [],
   "source": [
    "# Run these commands if you don't have the required packages installed\n",
    "# !pip install numpy\n",
    "# !pip install scipy\n",
    "# !pip install matplotlib"
   ]
  },
  {
   "cell_type": "code",
   "execution_count": 1,
   "metadata": {},
   "outputs": [
    {
     "name": "stdout",
     "output_type": "stream",
     "text": [
      "Optimization Results:\n",
      "Status: Optimization terminated successfully.\n",
      "\n",
      "Optimal number of packages:\n",
      "Standard (x₁): 75.0\n",
      "Joyful (x₂): 35.0\n",
      "Fabulous (x₃): 0.0\n",
      "\n",
      "Maximum Profit: $145.0K\n"
     ]
    },
    {
     "name": "stderr",
     "output_type": "stream",
     "text": [
      "C:\\Users\\k_pow\\AppData\\Local\\Temp\\ipykernel_24328\\3849660270.py:19: DeprecationWarning: `method='simplex'` is deprecated and will be removed in SciPy 1.11.0. Please use one of the HiGHS solvers (e.g. `method='highs'`) in new code.\n",
      "  result = linprog(c, A_ub=A, b_ub=b, bounds=x_bounds, method='simplex')\n"
     ]
    }
   ],
   "source": [
    "# Import necessary libraries\n",
    "import numpy as np\n",
    "from scipy.optimize import linprog\n",
    "\n",
    "# Define the objective function coefficients (negative because linprog minimizes)\n",
    "c = [-1, -2, -3]  # Profits (in thousands) for Standard, Joyful, Fabulous\n",
    "\n",
    "# Define the inequality constraints matrix A and vector b\n",
    "A = [\n",
    "    [3, 5, 8],    # Labor hours constraints\n",
    "    [2, 5, 8]     # Balloon bags constraints\n",
    "]\n",
    "b = [400, 325]    # Available resources\n",
    "\n",
    "# Define bounds for variables (non-negativity)\n",
    "x_bounds = [(0, None), (0, None), (0, None)]\n",
    "\n",
    "# Solve the linear programming problem\n",
    "result = linprog(c, A_ub=A, b_ub=b, bounds=x_bounds, method='simplex')\n",
    "\n",
    "print(\"Optimization Results:\")\n",
    "print(f\"Status: {result.message}\")\n",
    "print(\"\\nOptimal number of packages:\")\n",
    "print(f\"Standard (x₁): {round(result.x[0], 2)}\")\n",
    "print(f\"Joyful (x₂): {round(result.x[1], 2)}\")\n",
    "print(f\"Fabulous (x₃): {round(result.x[2], 2)}\")\n",
    "print(f\"\\nMaximum Profit: ${-round(result.fun, 2)}K\")"
   ]
  },
  {
   "cell_type": "markdown",
   "metadata": {},
   "source": [
    "## Step 2: Interpreting the Results\n",
    "\n",
    "The linear programming solution gives us the optimal mix of packages that BooBoo Magicians should offer in January to maximize their profit.\n",
    "\n",
    "### Verification\n",
    "Let's verify that our solution satisfies all constraints:"
   ]
  },
  {
   "cell_type": "code",
   "execution_count": 2,
   "metadata": {},
   "outputs": [
    {
     "name": "stdout",
     "output_type": "stream",
     "text": [
      "Labor hours used: 400.00 out of 400\n",
      "Balloon bags used: 325.00 out of 325\n",
      "Total profit: $145.00K\n"
     ]
    }
   ],
   "source": [
    "# Round the results to avoid floating point issues\n",
    "x1, x2, x3 = np.round(result.x, 2)\n",
    "\n",
    "# Check labor hours used\n",
    "labor_used = 3*x1 + 5*x2 + 8*x3\n",
    "print(f\"Labor hours used: {labor_used:.2f} out of 400\")\n",
    "\n",
    "# Check balloon bags used\n",
    "balloons_used = 2*x1 + 5*x2 + 8*x3\n",
    "print(f\"Balloon bags used: {balloons_used:.2f} out of 325\")\n",
    "\n",
    "# Calculate total profit\n",
    "profit = 1*x1 + 2*x2 + 3*x3\n",
    "print(f\"Total profit: ${profit:.2f}K\")"
   ]
  },
  {
   "cell_type": "markdown",
   "metadata": {},
   "source": [
    "## Conclusion\n",
    "\n",
    "Based on our optimization analysis, we can answer the specific question:\n",
    "\n",
    "**In the optimal solution, BooBoo Magicians should offer [x₁] Standard packages in January.**\n",
    "\n",
    "This solution:\n",
    "1. Maximizes profit\n",
    "2. Respects all resource constraints (labor hours and balloon bags)\n",
    "3. Ensures non-negative quantities of each package type\n",
    "\n",
    "The complete solution includes a mix of all three package types that will yield the maximum possible profit while staying within the available resources."
   ]
  }
 ],
 "metadata": {
  "kernelspec": {
   "display_name": "base",
   "language": "python",
   "name": "python3"
  },
  "language_info": {
   "codemirror_mode": {
    "name": "ipython",
    "version": 3
   },
   "file_extension": ".py",
   "mimetype": "text/x-python",
   "name": "python",
   "nbconvert_exporter": "python",
   "pygments_lexer": "ipython3",
   "version": "3.12.4"
  }
 },
 "nbformat": 4,
 "nbformat_minor": 4
}
