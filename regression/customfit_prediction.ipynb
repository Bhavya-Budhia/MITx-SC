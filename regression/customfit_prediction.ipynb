{
 "cells": [
  {
   "cell_type": "markdown",
   "metadata": {},
   "source": [
    "# CustomFit Tailoring Time Prediction\n",
    "\n",
    "CustomFit is a premium tailoring service that wants to better predict alteration times for customer garments. They've collected data on garment complexity (measured by number of alterations needed) and the total time taken to complete the alterations.\n",
    "\n",
    "## Sample Data\n",
    "\n",
    "| Alterations Required | Completion Time (minutes) |\n",
    "|---------------------|---------------------------|\n",
    "| 3 | 45 |\n",
    "| 7 | 95 |\n",
    "| 2 | 35 |\n",
    "| 8 | 105 |\n",
    "| 1 | 25 |\n",
    "| 4 | 55 |\n",
    "| 6 | 85 |\n",
    "| 2 | 30 |\n",
    "| 3 | 40 |\n",
    "| 7 | 90 |\n",
    "| 5 | 70 |\n",
    "| 4 | 50 |\n",
    "| 5 | 75 |\n",
    "| 6 | 80 |"
   ]
  },
  {
   "cell_type": "code",
   "execution_count": null,
   "metadata": {},
   "source": [
    "import numpy as np\n",
    "import pandas as pd\n",
    "from scipy import stats\n",
    "import matplotlib.pyplot as plt\n",
    "from sklearn.linear_model import LinearRegression\n",
    "from sklearn.metrics import r2_score\n",
    "from utils.testing.regression_tests import (\n",
    "    check_coefficients,\n",
    "    check_prediction,\n",
    "    check_diagnostics\n",
    ")"
   ]
  },
  {
   "cell_type": "markdown",
   "metadata": {},
   "source": [
    "## Part 1: Linear Regression Analysis\n",
    "\n",
    "Fit a linear regression model to predict completion time based on number of alterations.\n",
    "\n",
    "Hint:\n",
    "- Expected relationship: Time = β₀ + β₁ × Alterations\n",
    "- Use sklearn's LinearRegression\n",
    "- Remember to reshape features for sklearn"
   ]
  },
  {
   "cell_type": "code",
   "execution_count": null,
   "metadata": {},
   "source": [
    "### insert code here ###\n",
    "# Prepare data\n",
    "alterations = np.array([3, 7, 2, 8, 1, 4, 6, 2, 3, 7, 5, 4, 5, 6])\n",
    "times = np.array([45, 95, 35, 105, 25, 55, 85, 30, 40, 90, 70, 50, 75, 80])\n",
    "\n",
    "# Fit model and extract coefficients\n",
    "slope = None      # Replace None with your calculation\n",
    "intercept = None  # Replace None with your calculation\n",
    "\n",
    "# Test your calculations\n",
    "if check_coefficients(slope, intercept):\n",
    "    print(\"✓ Regression coefficients correct!\")\n",
    "else:\n",
    "    print(\"✗ Check your regression calculations\")"
   ]
  },
  {
   "cell_type": "markdown",
   "metadata": {},
   "source": [
    "## Part 2: Prediction\n",
    "\n",
    "Use your model to make predictions and calculate confidence intervals.\n",
    "\n",
    "Hint:\n",
    "- Use model.predict() for point predictions\n",
    "- Consider uncertainty in predictions\n",
    "- Remember the difference between confidence and prediction intervals"
   ]
  },
  {
   "cell_type": "code",
   "execution_count": null,
   "metadata": {},
   "source": [
    "### insert code here ###\n",
    "# Make predictions\n",
    "test_alterations = 5  # Predict time for 5 alterations\n",
    "predicted_time = None  # Replace None with your calculation\n",
    "\n",
    "# Test your prediction\n",
    "if check_prediction(predicted_time, test_alterations):\n",
    "    print(\"✓ Prediction correct!\")\n",
    "else:\n",
    "    print(\"✗ Check your prediction calculation\")"
   ]
  },
  {
   "cell_type": "markdown",
   "metadata": {},
   "source": [
    "## Part 3: Model Diagnostics\n",
    "\n",
    "Check if the model assumptions are satisfied.\n",
    "\n",
    "Hint:\n",
    "- Calculate and plot residuals\n",
    "- Check for normality using Q-Q plot\n",
    "- Look for patterns in residuals vs. fitted values"
   ]
  },
  {
   "cell_type": "code",
   "execution_count": null,
   "metadata": {},
   "source": [
    "### insert code here ###\n",
    "# Calculate residuals and run diagnostics\n",
    "model_diagnostics = None  # Replace None with your calculations\n",
    "\n",
    "# Test your diagnostics\n",
    "if check_diagnostics(model_diagnostics):\n",
    "    print(\"✓ Model diagnostics correct!\")\n",
    "else:\n",
    "    print(\"✗ Review your diagnostic calculations\")"
   ]
  },
  {
   "cell_type": "markdown",
   "metadata": {},
   "source": [
    "## Part 4: Visualization\n",
    "\n",
    "Create visual representations of:\n",
    "1. Data points and regression line\n",
    "2. Residual plot\n",
    "3. Q-Q plot for normality\n",
    "\n",
    "This will help communicate your findings to the CustomFit team."
   ]
  },
  {
   "cell_type": "code",
   "execution_count": null,
   "metadata": {},
   "source": [
    "### insert code here ###\n",
    "# Create visualizations\n",
    "\n",
    "# 1. Regression Plot\n",
    "plt.figure(figsize=(12, 4))\n",
    "plt.subplot(131)\n",
    "plt.scatter(alterations, times, alpha=0.5)\n",
    "plt.xlabel('Number of Alterations')\n",
    "plt.ylabel('Completion Time (minutes)')\n",
    "plt.title('Alterations vs. Time')\n",
    "\n",
    "# Add your residual and Q-Q plots"
   ]
  },
  {
   "cell_type": "markdown",
   "metadata": {},
   "source": [
    "## Extension Questions\n",
    "\n",
    "1. Statistical Considerations:\n",
    "   - How would adding polynomial terms affect the model?\n",
    "   - What other factors might influence completion time?\n",
    "   - How could we validate the model with new data?\n",
    "\n",
    "2. Business Implications:\n",
    "   - How can CustomFit use this model for scheduling?\n",
    "   - What pricing strategies could this inform?\n",
    "   - How could the model improve customer satisfaction?\n",
    "\n",
    "## Statistical Notes\n",
    "\n",
    "Key concepts used:\n",
    "1. Simple linear regression\n",
    "2. Coefficient interpretation\n",
    "3. Model diagnostics\n",
    "4. Prediction intervals\n",
    "\n",
    "Remember:\n",
    "- Check model assumptions\n",
    "- Consider practical significance\n",
    "- Think about prediction uncertainty"
   ]
  }
 ],
 "metadata": {
  "kernelspec": {
   "display_name": "Python 3",
   "language": "python",
   "name": "python3"
  },
  "language_info": {
   "codemirror_mode": {
    "name": "ipython",
    "version": 3
   },
   "file_extension": ".py",
   "mimetype": "text/x-python",
   "name": "python",
   "nbconvert_exporter": "python",
   "pygments_lexer": "ipython3",
   "version": "3.8.0"
  }
 },
 "nbformat": 4,
 "nbformat_minor": 4
}
