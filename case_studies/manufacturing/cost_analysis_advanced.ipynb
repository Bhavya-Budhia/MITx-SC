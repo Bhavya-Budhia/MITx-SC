{
 "cells": [
  {
   "cell_type": "markdown",
   "metadata": {},
   "source": [
    "# Youkea Cost Accounting Analysis - Part 2\n",
    "## Calculating Specific Activity Costs\n",
    "\n",
    "### Problem Overview\n",
    "Calculate the total annual cost for:\n",
    "1. Processing web orders\n",
    "2. Express delivery shipments\n",
    "\n",
    "### Given Information:\n",
    "- Total order entry expenses: $20,000\n",
    "- Web orders: 15% of order entry costs\n",
    "- Express delivery costs include:\n",
    "  * Delivery personnel: $100,000\n",
    "  * Other delivery expenses: $10,000\n",
    "\n",
    "---"
   ]
  },
  {
   "cell_type": "code",
   "execution_count": null,
   "metadata": {},
   "source": [
    "# Required package installations (uncomment if needed)\n",
    "# !pip install numpy\n",
    "# !pip install pandas\n",
    "\n",
    "import numpy as np\n",
    "import pandas as pd"
   ]
  },
  {
   "cell_type": "markdown",
   "metadata": {},
   "source": [
    "## 1. Calculate Cost of Processing Web Orders"
   ]
  },
  {
   "cell_type": "code",
   "execution_count": null,
   "metadata": {},
   "source": [
    "# Total order entry expenses\n",
    "total_order_entry_cost = 20000\n",
    "\n",
    "# Web orders represent 15% of total order entry costs\n",
    "web_order_cost = total_order_entry_cost * 0.15\n",
    "\n",
    "print(f\"Total annual cost for processing web orders: ${web_order_cost:.0f}\")"
   ]
  },
  {
   "cell_type": "markdown",
   "metadata": {},
   "source": [
    "## 2. Calculate Cost of Express Delivery"
   ]
  },
  {
   "cell_type": "code",
   "execution_count": null,
   "metadata": {},
   "source": [
    "# Express delivery costs\n",
    "delivery_personnel_cost = 100000\n",
    "other_delivery_expenses = 10000\n",
    "\n",
    "# Total express delivery cost\n",
    "total_express_delivery_cost = delivery_personnel_cost + other_delivery_expenses\n",
    "\n",
    "print(f\"Total annual cost for express delivery: ${total_express_delivery_cost:.0f}\")"
   ]
  },
  {
   "cell_type": "markdown",
   "metadata": {},
   "source": [
    "## Summary of Results\n",
    "\n",
    "1. **Cost of Processing Web Orders:** $3,000\n",
    "   - Calculated as 15% of total order entry expenses ($20,000)\n",
    "\n",
    "2. **Cost of Express Delivery:** $110,000\n",
    "   - Delivery personnel: $100,000\n",
    "   - Other delivery expenses: $10,000\n",
    "\n",
    "These costs represent the total annual expenditure for each activity based on last year's data."
   ]
  }
 ],
 "metadata": {
  "kernelspec": {
   "display_name": "Python 3",
   "language": "python",
   "name": "python3"
  },
  "language_info": {
   "codemirror_mode": {
    "name": "ipython",
    "version": 3
   },
   "file_extension": ".py",
   "mimetype": "text/x-python",
   "name": "python",
   "nbconvert_exporter": "python",
   "pygments_lexer": "ipython3",
   "version": "3.8.0"
  }
 },
 "nbformat": 4,
 "nbformat_minor": 4
}
