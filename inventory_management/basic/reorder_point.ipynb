{
 "cells": [
  {
   "cell_type": "markdown",
   "metadata": {},
   "source": [
    "# Reorder Point Calculation\n",
    "\n",
    "You're a supply chain analyst at AutoParts Plus, an automotive parts retailer. You need to determine reorder points for various parts to ensure optimal inventory levels. You have data on demand patterns and lead times.\n",
    "\n",
    "Key Parameters:\n",
    "- Service Level: 98% (critical auto parts)\n",
    "- Lead Time: Variable by supplier\n",
    "- Demand: Variable by part\n",
    "- Review Period: Daily"
   ]
  },
  {
   "cell_type": "code",
   "execution_count": null,
   "metadata": {},
   "source": [
    "import numpy as np\n",
    "from scipy import stats\n",
    "import pandas as pd\n",
    "import matplotlib.pyplot as plt\n",
    "from utils.testing.inventory_tests import (\n",
    "    check_reorder_point,\n",
    "    check_service_level,\n",
    "    verify_inventory_levels\n",
    ")"
   ]
  },
  {
   "cell_type": "markdown",
   "metadata": {},
   "source": [
    "## Part 1: Basic Reorder Point\n",
    "\n",
    "Calculate reorder point for brake pads with constant lead time."
   ]
  },
  {
   "cell_type": "code",
   "execution_count": null,
   "metadata": {},
   "source": [
    "# Parameters for Brake Pads\n",
    "daily_demand_mean = 50   # units\n",
    "daily_demand_std = 10    # units\n",
    "lead_time = 5           # days\n",
    "service_level = 0.98    # 98%\n",
    "\n",
    "###insert code here\n",
    "# Calculate:\n",
    "# a) Lead time demand\n",
    "# b) Safety stock\n",
    "# c) Reorder point\n",
    "# d) Order quantity (EOQ)"
   ]
  },
  {
   "cell_type": "markdown",
   "metadata": {},
   "source": [
    "### Questions to Answer:\n",
    "1. What's the expected demand during lead time?\n",
    "2. How much safety stock is needed?\n",
    "3. At what level should we reorder?\n",
    "4. How does this compare to a lower service level?"
   ]
  },
  {
   "cell_type": "markdown",
   "metadata": {},
   "source": [
    "## Part 2: Variable Lead Time\n",
    "\n",
    "Calculate reorder point with variable lead time."
   ]
  },
  {
   "cell_type": "code",
   "execution_count": null,
   "metadata": {},
   "source": [
    "# Additional parameters\n",
    "lead_time_mean = 5      # days\n",
    "lead_time_std = 1       # days\n",
    "\n",
    "###insert code here\n",
    "# Calculate:\n",
    "# a) New safety stock\n",
    "# b) Adjusted reorder point\n",
    "# c) Stock-out probability\n",
    "# d) Service level verification"
   ]
  },
  {
   "cell_type": "markdown",
   "metadata": {},
   "source": [
    "### Questions to Answer:\n",
    "1. How does variable lead time affect the reorder point?\n",
    "2. What's the new safety stock level?\n",
    "3. What's the probability of a stock-out?\n",
    "4. Is the service level still maintained?"
   ]
  },
  {
   "cell_type": "markdown",
   "metadata": {},
   "source": [
    "## Part 3: Multiple Parts\n",
    "\n",
    "Analyze reorder points for multiple parts."
   ]
  },
  {
   "cell_type": "code",
   "execution_count": null,
   "metadata": {},
   "source": [
    "# Data for multiple parts\n",
    "parts = {\n",
    "    'Brake Pads': {'demand_mean': 50, 'demand_std': 10, 'lead_time': 5, 'unit_cost': 40},\n",
    "    'Oil Filters': {'demand_mean': 100, 'demand_std': 20, 'lead_time': 3, 'unit_cost': 15},\n",
    "    'Spark Plugs': {'demand_mean': 30, 'demand_std': 8, 'lead_time': 4, 'unit_cost': 25}\n",
    "}\n",
    "\n",
    "###insert code here\n",
    "# Calculate for each part:\n",
    "# a) Reorder point\n",
    "# b) Safety stock\n",
    "# c) Total inventory investment\n",
    "# d) Service level achievement"
   ]
  },
  {
   "cell_type": "markdown",
   "metadata": {},
   "source": [
    "## Visualization\n",
    "\n",
    "Create visual representations of inventory patterns."
   ]
  },
  {
   "cell_type": "code",
   "execution_count": null,
   "metadata": {},
   "source": [
    "###insert code here\n",
    "# Create plots for:\n",
    "# 1. Inventory level over time\n",
    "# 2. Service level vs safety stock\n",
    "# 3. Parts comparison"
   ]
  },
  {
   "cell_type": "markdown",
   "metadata": {},
   "source": [
    "## Extension Questions\n",
    "\n",
    "1. Supplier Reliability:\n",
    "   - How do we adjust for unreliable suppliers?\n",
    "   - What if lead time distribution is not normal?\n",
    "\n",
    "2. Cost Considerations:\n",
    "   - How do we balance holding costs with stockout costs?\n",
    "   - What's the impact of bulk discounts?\n",
    "   - How do we handle parts with different criticality levels?"
   ]
  }
 ],
 "metadata": {
  "kernelspec": {
   "display_name": "Python 3",
   "language": "python",
   "name": "python3"
  },
  "language_info": {
   "codemirror_mode": {
    "name": "ipython",
    "version": 3
   },
   "file_extension": ".py",
   "mimetype": "text/x-python",
   "name": "python",
   "nbconvert_exporter": "python",
   "pygments_lexer": "ipython3",
   "version": "3.8.0"
  }
 },
 "nbformat": 4,
 "nbformat_minor": 4
}
