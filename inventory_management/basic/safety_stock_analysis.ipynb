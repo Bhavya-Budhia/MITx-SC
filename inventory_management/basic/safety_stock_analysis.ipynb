{
 "cells": [
  {
   "cell_type": "markdown",
   "metadata": {},
   "source": [
    "# Safety Stock and Reorder Point Analysis\n",
    "\n",
    "You're a supply chain analyst at TechParts Inc. Your task is to determine appropriate safety stock levels and reorder points for various components to maintain desired service levels while minimizing inventory costs.\n",
    "\n",
    "This analysis will help you:\n",
    "- Calculate safety stock based on demand and lead time variability\n",
    "- Determine reorder points that balance stockout risk with holding costs\n",
    "- Analyze the impact of service level decisions on inventory investment"
   ]
  },
  {
   "cell_type": "code",
   "execution_count": null,
   "metadata": {},
   "outputs": [],
   "source": [
    "import numpy as np\n",
    "import pandas as pd\n",
    "import matplotlib.pyplot as plt\n",
    "import seaborn as sns\n",
    "from scipy import stats\n"
   ]
  },
  {
   "cell_type": "markdown",
   "metadata": {},
   "source": [
    "## Part 1: Basic Safety Stock Calculation\n",
    "\n",
    "Calculate safety stock for a product with the following parameters:\n",
    "- Average daily demand = 100 units\n",
    "- Standard deviation of daily demand = 20 units\n",
    "- Average lead time = 5 days\n",
    "- Standard deviation of lead time = 1 day\n",
    "- Desired service level = 95%"
   ]
  },
  {
   "cell_type": "code",
   "execution_count": null,
   "metadata": {},
   "outputs": [],
   "source": [
    "# Your code here:\n",
    "# 1. Calculate safety factor (z-score) for desired service level\n",
    "# 2. Calculate standard deviation during lead time\n",
    "# 3. Calculate safety stock\n",
    "# 4. Calculate reorder point"
   ]
  },
  {
   "cell_type": "markdown",
   "metadata": {},
   "source": [
    "## Part 2: Service Level Analysis\n",
    "\n",
    "Analyze how different service levels affect safety stock requirements and total inventory costs."
   ]
  },
  {
   "cell_type": "code",
   "execution_count": null,
   "metadata": {},
   "outputs": [],
   "source": [
    "# Your code here:\n",
    "# 1. Create range of service levels (80% to 99.9%)\n",
    "# 2. Calculate required safety stock for each service level\n",
    "# 3. Calculate associated inventory costs\n",
    "# 4. Create visualization showing the relationship"
   ]
  },
  {
   "cell_type": "markdown",
   "metadata": {},
   "source": [
    "### Questions to Answer:\n",
    "1. How much does safety stock increase when moving from 95% to 99% service level?\n",
    "2. What is the cost implication of this increase?\n",
    "3. Is the increased service level worth the additional inventory investment?"
   ]
  },
  {
   "cell_type": "markdown",
   "metadata": {},
   "source": [
    "## Part 3: Demand and Lead Time Variability Impact\n",
    "\n",
    "Analyze how changes in demand and lead time variability affect safety stock requirements."
   ]
  },
  {
   "cell_type": "code",
   "execution_count": null,
   "metadata": {},
   "outputs": [],
   "source": [
    "# Your code here:\n",
    "# 1. Create ranges for demand and lead time variability\n",
    "# 2. Calculate safety stock for different combinations\n",
    "# 3. Create heat map or 3D surface plot\n",
    "# 4. Analyze which factor has greater impact"
   ]
  },
  {
   "cell_type": "markdown",
   "metadata": {},
   "source": [
    "## Part 4: Multiple Products Analysis\n",
    "\n",
    "Calculate safety stock and reorder points for multiple products with different characteristics."
   ]
  },
  {
   "cell_type": "code",
   "execution_count": null,
   "metadata": {},
   "outputs": [],
   "source": [
    "# Sample data provided\n",
    "np.random.seed(42)\n",
    "n_products = 5\n",
    "\n",
    "data = {\n",
    "    'Product_ID': [f'P{i:03d}' for i in range(1, n_products + 1)],\n",
    "    'Daily_Demand': np.random.randint(50, 500, n_products),\n",
    "    'Demand_StdDev': np.random.uniform(10, 100, n_products),\n",
    "    'Lead_Time': np.random.uniform(3, 10, n_products),\n",
    "    'Lead_Time_StdDev': np.random.uniform(0.5, 2, n_products),\n",
    "    'Service_Level': np.random.uniform(0.90, 0.99, n_products),\n",
    "    'Unit_Cost': np.random.uniform(10, 100, n_products)\n",
    "}\n",
    "\n",
    "# Your code here:\n",
    "# 1. Calculate safety stock for each product\n",
    "# 2. Calculate reorder points\n",
    "# 3. Calculate inventory investment\n",
    "# 4. Create summary visualizations"
   ]
  }
 ],
 "metadata": {
  "kernelspec": {
   "display_name": "Python 3",
   "language": "python",
   "name": "python3"
  },
  "language_info": {
   "codemirror_mode": {
    "name": "ipython",
    "version": 3
   },
   "file_extension": ".py",
   "mimetype": "text/x-python",
   "name": "python",
   "nbconvert_exporter": "python",
   "pygments_lexer": "ipython3",
   "version": "3.8.0"
  }
 },
 "nbformat": 4,
 "nbformat_minor": 4
}
