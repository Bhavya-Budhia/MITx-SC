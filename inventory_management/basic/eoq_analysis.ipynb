{
 "cells": [
  {
   "cell_type": "markdown",
   "metadata": {},
   "source": [
    "# Economic Order Quantity (EOQ) Analysis\n",
    "\n",
    "You're a supply chain analyst at TechParts Inc., a manufacturer of electronic components. You need to determine the optimal order quantities for various parts to minimize total inventory costs.\n",
    "\n",
    "The EOQ model helps find the order quantity that minimizes the sum of:\n",
    "- Annual ordering costs\n",
    "- Annual holding costs"
   ]
  },
  {
   "cell_type": "code",
   "execution_count": null,
   "metadata": {},
   "source": [
    "import numpy as np\n",
    "import pandas as pd\n",
    "import matplotlib.pyplot as plt\n",
    "import seaborn as sns"
   ]
  },
  {
   "cell_type": "markdown",
   "metadata": {},
   "source": [
    "## Part 1: Basic EOQ Calculation\n",
    "\n",
    "Calculate the Economic Order Quantity for a single product with the following parameters:\n",
    "- Annual demand (D) = 1000 units\n",
    "- Ordering cost (S) = $100 per order\n",
    "- Holding cost (H) = $20 per unit per year"
   ]
  },
  {
   "cell_type": "code",
   "execution_count": null,
   "metadata": {},
   "source": [
    "# Your code here:\n",
    "# 1. Calculate EOQ using the formula: sqrt(2DS/H)\n",
    "# 2. Calculate the optimal number of orders per year\n",
    "# 3. Calculate the optimal cycle time"
   ]
  },
  {
   "cell_type": "markdown",
   "metadata": {},
   "source": [
    "## Part 2: Total Cost Analysis\n",
    "\n",
    "Calculate and visualize how total cost varies with order quantity."
   ]
  },
  {
   "cell_type": "code",
   "execution_count": null,
   "metadata": {},
   "source": [
    "# Your code here:\n",
    "# 1. Create a range of order quantities\n",
    "# 2. Calculate ordering costs: (D/Q)*S\n",
    "# 3. Calculate holding costs: (Q/2)*H\n",
    "# 4. Calculate total costs\n",
    "# 5. Plot the cost curves"
   ]
  },
  {
   "cell_type": "markdown",
   "metadata": {},
   "source": [
    "### Questions to Answer:\n",
    "1. What is the minimum total cost?\n",
    "2. How do ordering and holding costs compare at the optimal quantity?\n",
    "3. What happens to total cost if we order 20% more or less than EOQ?"
   ]
  },
  {
   "cell_type": "markdown",
   "metadata": {},
   "source": [
    "## Part 3: Sensitivity Analysis\n",
    "\n",
    "Analyze how EOQ changes with different parameter values."
   ]
  },
  {
   "cell_type": "code",
   "execution_count": null,
   "metadata": {},
   "source": [
    "# Your code here:\n",
    "# 1. Create ranges for D, S, and H\n",
    "# 2. Calculate EOQ for each combination\n",
    "# 3. Create visualizations showing the relationships\n",
    "# 4. Calculate percentage changes"
   ]
  },
  {
   "cell_type": "markdown",
   "metadata": {},
   "source": [
    "### Questions to Answer:\n",
    "1. How does EOQ change with a 50% increase in demand?\n",
    "2. Which parameter has the biggest impact on EOQ?\n",
    "3. How do cost changes affect the optimal order quantity?"
   ]
  },
  {
   "cell_type": "markdown",
   "metadata": {},
   "source": [
    "## Part 4: Multiple Products Analysis\n",
    "\n",
    "Calculate EOQ for multiple products with different parameters."
   ]
  },
  {
   "cell_type": "code",
   "execution_count": null,
   "metadata": {},
   "source": [
    "# Generate sample data for multiple products\n",
    "np.random.seed(42)\n",
    "n_products = 5\n",
    "\n",
    "data = {\n",
    "    'Product_ID': [f'P{i:03d}' for i in range(1, n_products + 1)],\n",
    "    'Annual_Demand': np.random.randint(500, 5000, n_products),\n",
    "    'Order_Cost': np.random.uniform(50, 200, n_products),\n",
    "    'Holding_Cost': np.random.uniform(10, 50, n_products)\n",
    "}\n",
    "\n",
    "# Your code here:\n",
    "# 1. Calculate EOQ for each product\n",
    "# 2. Calculate total costs\n",
    "# 3. Create summary statistics\n",
    "# 4. Visualize the results"
   ]
  }
 ],
 "metadata": {
  "kernelspec": {
   "display_name": "Python 3",
   "language": "python",
   "name": "python3"
  },
  "language_info": {
   "codemirror_mode": {
    "name": "ipython",
    "version": 3
   },
   "file_extension": ".py",
   "mimetype": "text/x-python",
   "name": "python",
   "nbconvert_exporter": "python",
   "pygments_lexer": "ipython3",
   "version": "3.8.0"
  }
 },
 "nbformat": 4,
 "nbformat_minor": 4
}
