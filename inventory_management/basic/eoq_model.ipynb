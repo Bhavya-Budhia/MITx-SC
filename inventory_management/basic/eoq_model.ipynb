{
 "cells": [
  {
   "cell_type": "markdown",
   "metadata": {},
   "source": [
    "# Economic Order Quantity (EOQ) Model\n",
    "\n",
    "You're a supply chain analyst at TechGear, an electronics retailer. You need to optimize the order quantity for the popular SmartWatch X model. The following data is available:\n",
    "\n",
    "- Annual demand (D): 1200 units\n",
    "- Ordering cost (S): $100 per order\n",
    "- Holding cost (H): $20 per unit per year\n",
    "- Lead time: 2 weeks\n",
    "- Working days per year: 250"
   ]
  },
  {
   "cell_type": "code",
   "execution_count": null,
   "metadata": {},
   "source": [
    "import numpy as np\n",
    "import matplotlib.pyplot as plt\n",
    "from utils.testing.inventory_tests import (\n",
    "    verify_inventory_levels,\n",
    "    check_service_level\n",
    ")"
   ]
  },
  {
   "cell_type": "markdown",
   "metadata": {},
   "source": [
    "## Part 1: Basic EOQ Calculation\n",
    "\n",
    "Calculate the optimal order quantity using the EOQ formula: Q* = sqrt((2DS)/H)"
   ]
  },
  {
   "cell_type": "code",
   "execution_count": null,
   "metadata": {},
   "source": [
    "# Define parameters\n",
    "D = 1200  # Annual demand\n",
    "S = 100   # Ordering cost\n",
    "H = 20    # Holding cost\n",
    "\n",
    "###insert code here\n",
    "# Calculate:\n",
    "# a) Economic Order Quantity (EOQ)\n",
    "# b) Number of orders per year\n",
    "# c) Time between orders\n",
    "# d) Total annual cost"
   ]
  },
  {
   "cell_type": "markdown",
   "metadata": {},
   "source": [
    "### Questions to Answer:\n",
    "1. What is the optimal order quantity?\n",
    "2. How many orders should be placed per year?\n",
    "3. What is the time between orders?\n",
    "4. What is the total annual cost?"
   ]
  },
  {
   "cell_type": "markdown",
   "metadata": {},
   "source": [
    "## Part 2: Reorder Point\n",
    "\n",
    "Calculate when to place new orders considering lead time."
   ]
  },
  {
   "cell_type": "code",
   "execution_count": null,
   "metadata": {},
   "source": [
    "# Additional parameters\n",
    "lead_time_weeks = 2\n",
    "working_days = 250\n",
    "\n",
    "###insert code here\n",
    "# Calculate:\n",
    "# a) Daily demand\n",
    "# b) Lead time demand\n",
    "# c) Reorder point\n",
    "# d) Safety stock needed for 95% service level"
   ]
  },
  {
   "cell_type": "markdown",
   "metadata": {},
   "source": [
    "### Questions to Answer:\n",
    "1. What is the daily demand?\n",
    "2. What is the lead time demand?\n",
    "3. At what inventory level should we place a new order?\n",
    "4. How much safety stock do we need?"
   ]
  },
  {
   "cell_type": "markdown",
   "metadata": {},
   "source": [
    "## Part 3: Cost Analysis\n",
    "\n",
    "Analyze how different order quantities affect total cost."
   ]
  },
  {
   "cell_type": "code",
   "execution_count": null,
   "metadata": {},
   "source": [
    "###insert code here\n",
    "# Calculate and plot:\n",
    "# a) Ordering costs for different Q\n",
    "# b) Holding costs for different Q\n",
    "# c) Total costs for different Q\n",
    "# d) Mark the EOQ point"
   ]
  },
  {
   "cell_type": "markdown",
   "metadata": {},
   "source": [
    "## Visualization\n",
    "\n",
    "Create visual representations of the inventory system."
   ]
  },
  {
   "cell_type": "code",
   "execution_count": null,
   "metadata": {},
   "source": [
    "###insert code here\n",
    "# Create plots for:\n",
    "# 1. Sawtooth inventory pattern\n",
    "# 2. Cost curves\n",
    "# 3. Reorder point visualization"
   ]
  },
  {
   "cell_type": "markdown",
   "metadata": {},
   "source": [
    "## Extension Questions\n",
    "\n",
    "1. Sensitivity Analysis:\n",
    "   - How would changes in ordering cost affect EOQ?\n",
    "   - What happens if holding cost increases?\n",
    "\n",
    "2. Practical Considerations:\n",
    "   - What assumptions does the EOQ model make?\n",
    "   - How might these assumptions be violated in practice?\n",
    "   - What modifications would make the model more realistic?"
   ]
  }
 ],
 "metadata": {
  "kernelspec": {
   "display_name": "Python 3",
   "language": "python",
   "name": "python3"
  },
  "language_info": {
   "codemirror_mode": {
    "name": "ipython",
    "version": 3
   },
   "file_extension": ".py",
   "mimetype": "text/x-python",
   "name": "python",
   "nbconvert_exporter": "python",
   "pygments_lexer": "ipython3",
   "version": "3.8.0"
  }
 },
 "nbformat": 4,
 "nbformat_minor": 4
}
