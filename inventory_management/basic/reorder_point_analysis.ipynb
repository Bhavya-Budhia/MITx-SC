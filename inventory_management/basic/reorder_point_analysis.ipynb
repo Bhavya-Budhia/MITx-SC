{
 "cells": [
  {
   "cell_type": "markdown",
   "metadata": {},
   "source": [
    "# Reorder Point Analysis\n",
    "\n",
    "You're a supply chain analyst at TechParts Inc. Your task is to establish optimal reorder points for various components, considering:\n",
    "- Lead time demand\n",
    "- Order cycles\n",
    "- Service level requirements\n",
    "- Inventory carrying costs\n",
    "\n",
    "The reorder point (ROP) determines when to place a new order, balancing stockout risk with inventory costs."
   ]
  },
  {
   "cell_type": "code",
   "execution_count": null,
   "metadata": {},
   "outputs": [],
   "source": [
    "import numpy as np\n",
    "import pandas as pd\n",
    "import matplotlib.pyplot as plt\n",
    "import seaborn as sns\n",
    "from scipy import stats\n"
   ]
  },
  {
   "cell_type": "markdown",
   "metadata": {},
   "source": [
    "## Part 1: Basic Reorder Point Calculation\n",
    "\n",
    "Calculate the reorder point for a product with:\n",
    "- Daily demand = 100 units\n",
    "- Lead time = 5 days\n",
    "- Safety stock = 150 units\n",
    "- Service level = 95%"
   ]
  },
  {
   "cell_type": "code",
   "execution_count": null,
   "metadata": {},
   "outputs": [],
   "source": [
    "# Your code here:\n",
    "# 1. Calculate lead time demand\n",
    "# 2. Add safety stock\n",
    "# 3. Determine reorder point\n",
    "# 4. Visualize inventory position over time"
   ]
  },
  {
   "cell_type": "markdown",
   "metadata": {},
   "source": [
    "## Part 2: Inventory Position Analysis\n",
    "\n",
    "Analyze how inventory position changes over time with:\n",
    "- Variable demand\n",
    "- Fixed order quantity\n",
    "- Lead time variation"
   ]
  },
  {
   "cell_type": "code",
   "execution_count": null,
   "metadata": {},
   "outputs": [],
   "source": [
    "# Your code here:\n",
    "# 1. Simulate daily demand\n",
    "# 2. Track inventory position\n",
    "# 3. Record stockouts\n",
    "# 4. Visualize results"
   ]
  },
  {
   "cell_type": "markdown",
   "metadata": {},
   "source": [
    "### Questions to Answer:\n",
    "1. What is the average inventory level?\n",
    "2. How often does the inventory position fall below ROP?\n",
    "3. What is the actual service level achieved?"
   ]
  },
  {
   "cell_type": "markdown",
   "metadata": {},
   "source": [
    "## Part 3: Order Cycle Analysis\n",
    "\n",
    "Study the relationship between:\n",
    "- Order quantity\n",
    "- Reorder point\n",
    "- Order frequency\n",
    "- Total costs"
   ]
  },
  {
   "cell_type": "code",
   "execution_count": null,
   "metadata": {},
   "outputs": [],
   "source": [
    "# Your code here:\n",
    "# 1. Calculate order cycles for different quantities\n",
    "# 2. Determine associated costs\n",
    "# 3. Find optimal combination\n",
    "# 4. Create trade-off analysis"
   ]
  },
  {
   "cell_type": "markdown",
   "metadata": {},
   "source": [
    "## Part 4: Multiple Products ROP System\n",
    "\n",
    "Design a reorder point system for multiple products with different characteristics."
   ]
  },
  {
   "cell_type": "code",
   "execution_count": null,
   "metadata": {},
   "outputs": [],
   "source": [
    "# Sample data provided\n",
    "np.random.seed(42)\n",
    "n_products = 5\n",
    "\n",
    "data = {\n",
    "    'Product_ID': [f'P{i:03d}' for i in range(1, n_products + 1)],\n",
    "    'Daily_Demand': np.random.randint(50, 500, n_products),\n",
    "    'Demand_StdDev': np.random.uniform(10, 100, n_products),\n",
    "    'Lead_Time': np.random.uniform(3, 10, n_products),\n",
    "    'Lead_Time_StdDev': np.random.uniform(0.5, 2, n_products),\n",
    "    'Service_Level': np.random.uniform(0.90, 0.99, n_products),\n",
    "    'Order_Cost': np.random.uniform(50, 200, n_products),\n",
    "    'Unit_Cost': np.random.uniform(10, 100, n_products),\n",
    "    'Holding_Cost_Rate': np.random.uniform(0.1, 0.3, n_products)\n",
    "}\n",
    "\n",
    "# Your code here:\n",
    "# 1. Calculate EOQ for each product\n",
    "# 2. Determine safety stock levels\n",
    "# 3. Set reorder points\n",
    "# 4. Create monitoring dashboard"
   ]
  }
 ],
 "metadata": {
  "kernelspec": {
   "display_name": "Python 3",
   "language": "python",
   "name": "python3"
  },
  "language_info": {
   "codemirror_mode": {
    "name": "ipython",
    "version": 3
   },
   "file_extension": ".py",
   "mimetype": "text/x-python",
   "name": "python",
   "nbconvert_exporter": "python",
   "pygments_lexer": "ipython3",
   "version": "3.8.0"
  }
 },
 "nbformat": 4,
 "nbformat_minor": 4
}
