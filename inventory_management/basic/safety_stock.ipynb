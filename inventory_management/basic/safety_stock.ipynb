{
 "cells": [
  {
   "cell_type": "markdown",
   "metadata": {},
   "source": [
    "# Safety Stock Determination\n",
    "\n",
    "You're a supply chain analyst at FreshFood Market, a grocery chain. You need to determine appropriate safety stock levels for their fresh produce department. You have historical data on demand and lead times for various products.\n",
    "\n",
    "Key Parameters:\n",
    "- Service Level Target: 95%\n",
    "- Lead Time: Variable (normally distributed)\n",
    "- Demand: Variable (normally distributed)\n",
    "- Review Period: Weekly"
   ]
  },
  {
   "cell_type": "code",
   "execution_count": null,
   "metadata": {},
   "source": [
    "import numpy as np\n",
    "from scipy import stats\n",
    "import pandas as pd\n",
    "import matplotlib.pyplot as plt\n",
    "from utils.testing.inventory_tests import (\n",
    "    check_service_level,\n",
    "    verify_inventory_levels\n",
    ")"
   ]
  },
  {
   "cell_type": "markdown",
   "metadata": {},
   "source": [
    "## Part 1: Basic Safety Stock\n",
    "\n",
    "Calculate safety stock for constant lead time."
   ]
  },
  {
   "cell_type": "code",
   "execution_count": null,
   "metadata": {},
   "source": [
    "# Parameters for Organic Apples\n",
    "daily_demand_mean = 100  # units\n",
    "daily_demand_std = 20    # units\n",
    "lead_time = 3           # days\n",
    "service_level = 0.95    # 95%\n",
    "\n",
    "###insert code here\n",
    "# Calculate:\n",
    "# a) Z-score for service level\n",
    "# b) Standard deviation of demand during lead time\n",
    "# c) Safety stock level\n",
    "# d) Total inventory needed"
   ]
  },
  {
   "cell_type": "markdown",
   "metadata": {},
   "source": [
    "### Questions to Answer:\n",
    "1. What z-score corresponds to 95% service level?\n",
    "2. How much safety stock is needed?\n",
    "3. What's the total inventory needed?\n",
    "4. How does this compare to no safety stock?"
   ]
  },
  {
   "cell_type": "markdown",
   "metadata": {},
   "source": [
    "## Part 2: Variable Lead Time\n",
    "\n",
    "Calculate safety stock considering variable lead time."
   ]
  },
  {
   "cell_type": "code",
   "execution_count": null,
   "metadata": {},
   "source": [
    "# Additional parameters\n",
    "lead_time_mean = 3      # days\n",
    "lead_time_std = 0.5     # days\n",
    "\n",
    "###insert code here\n",
    "# Calculate:\n",
    "# a) Combined variability\n",
    "# b) New safety stock level\n",
    "# c) Percentage increase\n",
    "# d) Impact on service level"
   ]
  },
  {
   "cell_type": "markdown",
   "metadata": {},
   "source": [
    "### Questions to Answer:\n",
    "1. How does variable lead time affect safety stock?\n",
    "2. What's the percentage increase in safety stock?\n",
    "3. What's the new total inventory level?\n",
    "4. How does this impact total cost?"
   ]
  },
  {
   "cell_type": "markdown",
   "metadata": {},
   "source": [
    "## Part 3: Multiple Products\n",
    "\n",
    "Analyze safety stock for multiple products."
   ]
  },
  {
   "cell_type": "code",
   "execution_count": null,
   "metadata": {},
   "source": [
    "# Generate data for multiple products\n",
    "products = {\n",
    "    'Organic Apples': {'demand_mean': 100, 'demand_std': 20, 'unit_cost': 2},\n",
    "    'Organic Bananas': {'demand_mean': 150, 'demand_std': 30, 'unit_cost': 1.5},\n",
    "    'Fresh Berries': {'demand_mean': 80, 'demand_std': 25, 'unit_cost': 4}\n",
    "}\n",
    "\n",
    "###insert code here\n",
    "# Calculate for each product:\n",
    "# a) Safety stock level\n",
    "# b) Total inventory investment\n",
    "# c) Service level achievement\n",
    "# d) Cost comparison"
   ]
  },
  {
   "cell_type": "markdown",
   "metadata": {},
   "source": [
    "## Visualization\n",
    "\n",
    "Create visual representations of safety stock analysis."
   ]
  },
  {
   "cell_type": "code",
   "execution_count": null,
   "metadata": {},
   "source": [
    "###insert code here\n",
    "# Create plots for:\n",
    "# 1. Safety stock vs service level\n",
    "# 2. Cost impact of different policies\n",
    "# 3. Product comparison"
   ]
  },
  {
   "cell_type": "markdown",
   "metadata": {},
   "source": [
    "## Extension Questions\n",
    "\n",
    "1. Cost-Service Trade-off:\n",
    "   - How does safety stock cost vary with service level?\n",
    "   - What's the optimal service level considering costs?\n",
    "\n",
    "2. Seasonal Considerations:\n",
    "   - How should safety stock vary by season?\n",
    "   - What about holiday periods?\n",
    "   - How do we handle perishable items?"
   ]
  }
 ],
 "metadata": {
  "kernelspec": {
   "display_name": "Python 3",
   "language": "python",
   "name": "python3"
  },
  "language_info": {
   "codemirror_mode": {
    "name": "ipython",
    "version": 3
   },
   "file_extension": ".py",
   "mimetype": "text/x-python",
   "name": "python",
   "nbconvert_exporter": "python",
   "pygments_lexer": "ipython3",
   "version": "3.8.0"
  }
 },
 "nbformat": 4,
 "nbformat_minor": 4
}
