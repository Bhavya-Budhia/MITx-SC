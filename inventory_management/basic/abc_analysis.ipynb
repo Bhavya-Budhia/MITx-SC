{
 "cells": [
  {
   "cell_type": "markdown",
   "metadata": {},
   "source": [
    "# ABC Analysis Implementation\n",
    "\n",
    "You're a supply chain analyst at ElectroMart, a consumer electronics retailer. You need to categorize inventory items based on their annual dollar volume using ABC analysis. You have data for 50 different products including their annual demand and unit cost.\n",
    "\n",
    "ABC Analysis Categories:\n",
    "- A items: Top 70-80% of annual dollar volume\n",
    "- B items: Next 15-20% of annual dollar volume\n",
    "- C items: Bottom 5-10% of annual dollar volume"
   ]
  },
  {
   "cell_type": "code",
   "execution_count": null,
   "metadata": {},
   "source": [
    "import numpy as np\n",
    "import pandas as pd\n",
    "import matplotlib.pyplot as plt\n",
    "import seaborn as sns"
   ]
  },
  {
   "cell_type": "markdown",
   "metadata": {},
   "source": [
    "## Part 1: Data Preparation\n",
    "\n",
    "Load and prepare the inventory data."
   ]
  },
  {
   "cell_type": "code",
   "execution_count": null,
   "metadata": {},
   "source": [
    "# Generate sample data\n",
    "np.random.seed(42)\n",
    "n_products = 50\n",
    "\n",
    "# Create sample data\n",
    "data = {\n",
    "    'Product_ID': [f'P{i:03d}' for i in range(1, n_products + 1)],\n",
    "    'Annual_Demand': np.random.randint(100, 10000, n_products),\n",
    "    'Unit_Cost': np.random.uniform(10, 1000, n_products)\n",
    "}\n",
    "\n",
    "# Convert to DataFrame\n",
    "df = pd.DataFrame(data)\n",
    "\n",
    "# Your code here:\n",
    "# 1. Calculate annual dollar volume (Demand × Unit Cost)\n",
    "# 2. Sort products by annual dollar volume\n",
    "# 3. Calculate percentage of total volume for each product\n",
    "# 4. Calculate cumulative percentage"
   ]
  },
  {
   "cell_type": "markdown",
   "metadata": {},
   "source": [
    "### Questions to Answer:\n",
    "1. What is the total annual dollar volume?\n",
    "2. What is the range of annual dollar volumes?\n",
    "3. How many products make up 80% of the volume?\n",
    "4. What is the average unit cost?"
   ]
  },
  {
   "cell_type": "markdown",
   "metadata": {},
   "source": [
    "## Part 2: ABC Classification\n",
    "\n",
    "Classify products into A, B, and C categories based on the cumulative percentage thresholds."
   ]
  },
  {
   "cell_type": "code",
   "execution_count": null,
   "metadata": {},
   "source": [
    "# Your code here:\n",
    "# 1. Assign ABC categories based on cumulative percentages\n",
    "# 2. Add category to DataFrame\n",
    "# 3. Calculate summary statistics for each category"
   ]
  },
  {
   "cell_type": "markdown",
   "metadata": {},
   "source": [
    "### Questions to Answer:\n",
    "1. How many items are in each category?\n",
    "2. What percentage of items are A items?\n",
    "3. What is the average unit cost per category?\n",
    "4. What is the total volume per category?"
   ]
  },
  {
   "cell_type": "markdown",
   "metadata": {},
   "source": [
    "## Part 3: Inventory Policy Recommendations\n",
    "\n",
    "Develop inventory management policies for each category.\n",
    "\n",
    "Typical policies by category:\n",
    "- A items: Weekly review, 99% service level\n",
    "- B items: Bi-weekly review, 95% service level\n",
    "- C items: Monthly review, 90% service level"
   ]
  },
  {
   "cell_type": "code",
   "execution_count": null,
   "metadata": {},
   "source": [
    "# Your code here:\n",
    "# 1. Define review frequencies for each category\n",
    "# 2. Set service level targets\n",
    "# 3. Calculate safety stock levels\n",
    "# 4. Determine order quantities"
   ]
  },
  {
   "cell_type": "markdown",
   "metadata": {},
   "source": [
    "## Part 4: Visualization\n",
    "\n",
    "Create visual representations of the ABC analysis."
   ]
  },
  {
   "cell_type": "code",
   "execution_count": null,
   "metadata": {},
   "source": [
    "# Your code here:\n",
    "# 1. Create Pareto chart\n",
    "# 2. Plot category distribution\n",
    "# 3. Create box plots of values by category"
   ]
  }
 ],
 "metadata": {
  "kernelspec": {
   "display_name": "Python 3",
   "language": "python",
   "name": "python3"
  },
  "language_info": {
   "codemirror_mode": {
    "name": "ipython",
    "version": 3
   },
   "file_extension": ".py",
   "mimetype": "text/x-python",
   "name": "python",
   "nbconvert_exporter": "python",
   "pygments_lexer": "ipython3",
   "version": "3.8.0"
  }
 },
 "nbformat": 4,
 "nbformat_minor": 4
}
