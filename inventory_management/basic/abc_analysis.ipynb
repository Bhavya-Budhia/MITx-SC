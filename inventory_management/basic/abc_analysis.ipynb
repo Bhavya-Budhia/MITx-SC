{
 "cells": [
  {
   "cell_type": "markdown",
   "metadata": {},
   "source": [
    "# ABC Analysis Implementation\n",
    "\n",
    "You're a supply chain analyst at ElectroMart, a consumer electronics retailer. You need to categorize inventory items based on their annual dollar volume using ABC analysis. You have data for 50 different products including their annual demand and unit cost.\n",
    "\n",
    "ABC Analysis Categories:\n",
    "- A items: Top 70-80% of annual dollar volume\n",
    "- B items: Next 15-20% of annual dollar volume\n",
    "- C items: Bottom 5-10% of annual dollar volume"
   ]
  },
  {
   "cell_type": "code",
   "execution_count": null,
   "metadata": {},
   "source": [
    "import numpy as np\n",
    "import pandas as pd\n",
    "import matplotlib.pyplot as plt\n",
    "import seaborn as sns\n",
    "from utils.testing.inventory_tests import verify_inventory_levels"
   ]
  },
  {
   "cell_type": "markdown",
   "metadata": {},
   "source": [
    "## Part 1: Data Preparation\n",
    "\n",
    "Load and prepare the inventory data."
   ]
  },
  {
   "cell_type": "code",
   "execution_count": null,
   "metadata": {},
   "source": [
    "# Generate sample data\n",
    "np.random.seed(42)\n",
    "n_products = 50\n",
    "\n",
    "data = {\n",
    "    'Product_ID': [f'P{i:03d}' for i in range(1, n_products + 1)],\n",
    "    'Annual_Demand': np.random.randint(100, 10000, n_products),\n",
    "    'Unit_Cost': np.random.uniform(10, 1000, n_products)\n",
    "}\n",
    "\n",
    "###insert code here\n",
    "# Calculate:\n",
    "# a) Annual dollar volume\n",
    "# b) Percentage of total volume\n",
    "# c) Cumulative percentage\n",
    "# d) Sort by annual dollar volume"
   ]
  },
  {
   "cell_type": "markdown",
   "metadata": {},
   "source": [
    "### Questions to Answer:\n",
    "1. What is the total annual dollar volume?\n",
    "2. What is the range of annual dollar volumes?\n",
    "3. How many products make up 80% of the volume?\n",
    "4. What is the average unit cost?"
   ]
  },
  {
   "cell_type": "markdown",
   "metadata": {},
   "source": [
    "## Part 2: ABC Classification\n",
    "\n",
    "Classify products into A, B, and C categories."
   ]
  },
  {
   "cell_type": "code",
   "execution_count": null,
   "metadata": {},
   "source": [
    "###insert code here\n",
    "# Implement:\n",
    "# a) Category assignment logic\n",
    "# b) Calculate metrics per category\n",
    "# c) Verify classification\n",
    "# d) Generate summary statistics"
   ]
  },
  {
   "cell_type": "markdown",
   "metadata": {},
   "source": [
    "### Questions to Answer:\n",
    "1. How many items are in each category?\n",
    "2. What percentage of items are A items?\n",
    "3. What is the average unit cost per category?\n",
    "4. What is the total volume per category?"
   ]
  },
  {
   "cell_type": "markdown",
   "metadata": {},
   "source": [
    "## Part 3: Inventory Policy Recommendations\n",
    "\n",
    "Develop inventory management policies for each category."
   ]
  },
  {
   "cell_type": "code",
   "execution_count": null,
   "metadata": {},
   "source": [
    "###insert code here\n",
    "# Calculate for each category:\n",
    "# a) Review frequency\n",
    "# b) Safety stock levels\n",
    "# c) Service level targets\n",
    "# d) Order quantity recommendations"
   ]
  },
  {
   "cell_type": "markdown",
   "metadata": {},
   "source": [
    "## Visualization\n",
    "\n",
    "Create visual representations of the ABC analysis."
   ]
  },
  {
   "cell_type": "code",
   "execution_count": null,
   "metadata": {},
   "source": [
    "###insert code here\n",
    "# Create plots for:\n",
    "# 1. Pareto chart\n",
    "# 2. Category distribution\n",
    "# 3. Box plots of values by category"
   ]
  },
  {
   "cell_type": "markdown",
   "metadata": {},
   "source": [
    "## Extension Questions\n",
    "\n",
    "1. Multi-Criteria ABC Analysis:\n",
    "   - How would lead time affect classification?\n",
    "   - Should we consider product obsolescence?\n",
    "\n",
    "2. Dynamic Classification:\n",
    "   - How often should we update classifications?\n",
    "   - What triggers should prompt reclassification?\n",
    "   - How do we handle seasonal products?"
   ]
  }
 ],
 "metadata": {
  "kernelspec": {
   "display_name": "Python 3",
   "language": "python",
   "name": "python3"
  },
  "language_info": {
   "codemirror_mode": {
    "name": "ipython",
    "version": 3
   },
   "file_extension": ".py",
   "mimetype": "text/x-python",
   "name": "python",
   "nbconvert_exporter": "python",
   "pygments_lexer": "ipython3",
   "version": "3.8.0"
  }
 },
 "nbformat": 4,
 "nbformat_minor": 4
}
